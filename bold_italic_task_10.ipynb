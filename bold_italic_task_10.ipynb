{
 "cells": [
  {
   "cell_type": "code",
   "execution_count": 8,
   "id": "2134c7ae-c0d2-4524-ab14-24c1956662db",
   "metadata": {},
   "outputs": [
    {
     "name": "stdout",
     "output_type": "stream",
     "text": [
      "<b><i>Hello Guys</i></b>\n",
      "<i><b>Hello Boys</b></i>\n"
     ]
    }
   ],
   "source": [
    "# @bold_text adds <b>...</b> around text,\n",
    "# @italic_text adds <i>...</i>.\n",
    "\n",
    "def bold_change(fun):\n",
    "    def change(*arg, **kw):\n",
    "        return f\"<b>{fun()}</b>\"\n",
    "    return change\n",
    "\n",
    "def italic_change(fun):\n",
    "    def change(*arg, **kw):\n",
    "        return f\"<i>{fun()}</i>\"\n",
    "    return change\n",
    "\n",
    "@bold_change\n",
    "@italic_change\n",
    "def text1():\n",
    "    return \"Hello Guys\"\n",
    "    \n",
    "@italic_change\n",
    "@bold_change\n",
    "def text2():\n",
    "    return \"Hello Boys\"\n",
    "\n",
    "\"\"\"@italic_change\n",
    "def text1():\n",
    "    return \"Hello Guys\" # Enclosing for 2 different function using 1 decorator for each\n",
    "    \n",
    "@bold_change\n",
    "def text2():\n",
    "    return \"Hello Boys\" \"\"\"\n",
    "\n",
    "print(text1())\n",
    "print(text2())"
   ]
  },
  {
   "cell_type": "code",
   "execution_count": null,
   "id": "a02b3ba3-171a-4561-b028-6f89b1adfd0b",
   "metadata": {},
   "outputs": [],
   "source": []
  }
 ],
 "metadata": {
  "kernelspec": {
   "display_name": "Python 3 (ipykernel)",
   "language": "python",
   "name": "python3"
  },
  "language_info": {
   "codemirror_mode": {
    "name": "ipython",
    "version": 3
   },
   "file_extension": ".py",
   "mimetype": "text/x-python",
   "name": "python",
   "nbconvert_exporter": "python",
   "pygments_lexer": "ipython3",
   "version": "3.13.7"
  }
 },
 "nbformat": 4,
 "nbformat_minor": 5
}
