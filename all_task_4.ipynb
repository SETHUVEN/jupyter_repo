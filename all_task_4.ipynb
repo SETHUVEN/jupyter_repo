{
 "cells": [
  {
   "cell_type": "code",
   "execution_count": 3,
   "id": "7d33f3ae-7693-41bc-a40e-fc5de3113a5b",
   "metadata": {},
   "outputs": [
    {
     "name": "stdin",
     "output_type": "stream",
     "text": [
      "Enter range:  20\n"
     ]
    },
    {
     "name": "stdout",
     "output_type": "stream",
     "text": [
      "2 is even number\n",
      "4 is even number\n",
      "6 is even number\n",
      "8 is even number\n",
      "10 is even number\n",
      "12 is even number\n",
      "14 is even number\n",
      "16 is even number\n",
      "18 is even number\n",
      "20 is even number\n"
     ]
    }
   ],
   "source": [
    "#Print all even numbers between 1–20, skipping odd numbers using continue.\n",
    "\n",
    "n = int(input(\"Enter range: \"))\n",
    "\n",
    "for i in range(1, n+1):\n",
    "    if i % 2 != 0:\n",
    "        continue\n",
    "    else:\n",
    "        print(f\"{i} is even number\")\n",
    "        "
   ]
  },
  {
   "cell_type": "code",
   "execution_count": 7,
   "id": "7ce374dc-2204-4993-b23a-9e2c1e0fd3f0",
   "metadata": {},
   "outputs": [
    {
     "name": "stdin",
     "output_type": "stream",
     "text": [
      "Enter an integer:  d\n"
     ]
    },
    {
     "name": "stdout",
     "output_type": "stream",
     "text": [
      "Enter a valid input\n"
     ]
    }
   ],
   "source": [
    "#Accept an integer from the user and print its square. Use try..else to handle invalid inputs.\n",
    "\n",
    "try:\n",
    "    n = int(input(\"Enter an integer: \"))\n",
    "except ValueError as e:\n",
    "    print(\"Enter a valid input\")\n",
    "else:\n",
    "    print(f\"{n ** 2} is the square root of {n}\")\n",
    "    "
   ]
  },
  {
   "cell_type": "code",
   "execution_count": 13,
   "id": "3531b2b9-c468-46b7-a8ec-6c4f853fd614",
   "metadata": {},
   "outputs": [
    {
     "name": "stdin",
     "output_type": "stream",
     "text": [
      "Enter the days number:  8\n"
     ]
    },
    {
     "name": "stdout",
     "output_type": "stream",
     "text": [
      "Invalid Input\n"
     ]
    }
   ],
   "source": [
    "#Write a program that takes a day number (1–7) and prints the day name. If invalid, print \"Invalid Day\".\n",
    "\n",
    "day = int(input(\"Enter the days number: \"))\n",
    "\n",
    "match day:\n",
    "    case 1:\n",
    "        print(\"Monday\")\n",
    "    case 2:\n",
    "        print(\"Tuesday\")\n",
    "    case 3:\n",
    "        print(\"Wednesday\")\n",
    "    case 4:\n",
    "        print(\"Thursday\")\n",
    "    case 5:\n",
    "        print(\"Friday\")\n",
    "    case 6:\n",
    "        print(\"Saturday\")\n",
    "    case 7:\n",
    "        print(\"Sudnday\")\n",
    "    case _:\n",
    "        print(\"Invalid Input\")"
   ]
  },
  {
   "cell_type": "code",
   "execution_count": 17,
   "id": "5b6b436f-9dcf-469f-9619-13645b0b6359",
   "metadata": {},
   "outputs": [
    {
     "name": "stdin",
     "output_type": "stream",
     "text": [
      "Enter range:  5\n"
     ]
    },
    {
     "name": "stdout",
     "output_type": "stream",
     "text": [
      "* * * * * \n",
      "*       * \n",
      "*       * \n",
      "*       * \n",
      "* * * * * \n"
     ]
    }
   ],
   "source": [
    "#Print a hollow square pattern of size n × n using a nested while loop.\n",
    "\n",
    "n = int(input(\"Enter range: \"))\n",
    "\n",
    "if n <= 0:\n",
    "    print(\"Enter value greater than 0\")\n",
    "else:\n",
    "    i = 0\n",
    "    while i < n:\n",
    "        j = 0\n",
    "        while j < n:\n",
    "            if i == 0 or i == n-1 or j == 0 or j == n-1:\n",
    "                print(\"*\", end = \" \")\n",
    "            else:\n",
    "                print(\" \", end= \" \")\n",
    "            j += 1\n",
    "        print()\n",
    "        i += 1"
   ]
  },
  {
   "cell_type": "code",
   "execution_count": 22,
   "id": "d1ee8381-c431-42bb-aeca-cc2e35abfcfd",
   "metadata": {},
   "outputs": [
    {
     "name": "stdin",
     "output_type": "stream",
     "text": [
      "Enter the key element:  10\n"
     ]
    },
    {
     "name": "stdout",
     "output_type": "stream",
     "text": [
      "10 not found\n"
     ]
    }
   ],
   "source": [
    "#Search for a number in a list. If found, break the loop; if not found, execute the else block.\n",
    "\n",
    "L1 = [1,2,3,4,5,6,7]\n",
    "key = int(input(\"Enter the key element: \"))\n",
    "n = len(L1)\n",
    "i = 0\n",
    "found_key = False\n",
    "\n",
    "while i < n:\n",
    "    if L1[i] == key:\n",
    "        print(f\"{key} key is found at the index {i}\")\n",
    "        found_key = True\n",
    "        break\n",
    "    i += 1\n",
    "else:\n",
    "    print(f\"{key} not found\")"
   ]
  },
  {
   "cell_type": "code",
   "execution_count": 3,
   "id": "5ef8be23-44d7-4d13-96e9-5c395af1189e",
   "metadata": {},
   "outputs": [
    {
     "name": "stdin",
     "output_type": "stream",
     "text": [
      "Enter an integer:  7\n"
     ]
    },
    {
     "name": "stdout",
     "output_type": "stream",
     "text": [
      "7 failed to satisfy all the conditions\n"
     ]
    }
   ],
   "source": [
    " #Use comparison and logical operators to check if a number lies between 100 and 200 and is divisible by 5.\n",
    "\n",
    "n = int(input(\"Enter an integer: \"))\n",
    "\n",
    "if (n >= 100 and n <= 200) and (n % 5 == 0):\n",
    "    print(f\"{n} satisfies all the conditions\")\n",
    "else:\n",
    "    print(f\"{n} failed to satisfy all the conditions\")"
   ]
  },
  {
   "cell_type": "code",
   "execution_count": 4,
   "id": "00441318-8786-4eec-8c83-2eb43f0b974a",
   "metadata": {},
   "outputs": [
    {
     "name": "stdin",
     "output_type": "stream",
     "text": [
      "Enter numerator:  4\n",
      "Enter denominator:  0\n"
     ]
    },
    {
     "name": "stdout",
     "output_type": "stream",
     "text": [
      "Denominator cannot be zero! please enter value greater than 0\n"
     ]
    }
   ],
   "source": [
    "#Take two numbers as input and perform division. Handle ZeroDivisionError and invalid input using try..else.\n",
    "\n",
    "try:\n",
    "    n = int(input(\"Enter numerator: \"))\n",
    "    d = int(input(\"Enter denominator: \"))\n",
    "    div = n / d\n",
    "    \n",
    "except ZeroDivisionError:\n",
    "    print(\"Denominator cannot be zero! please enter value greater than 0\")\n",
    "    \n",
    "except ValueError:\n",
    "    print(\"Enter a valid input\")\n",
    "    \n",
    "else:\n",
    "    print(f\"{div} is the quotient\")"
   ]
  },
  {
   "cell_type": "code",
   "execution_count": 5,
   "id": "a077a4cd-7aac-499f-8a82-9cee737914b2",
   "metadata": {},
   "outputs": [
    {
     "name": "stdin",
     "output_type": "stream",
     "text": [
      "Enter range:  5\n"
     ]
    },
    {
     "name": "stdout",
     "output_type": "stream",
     "text": [
      "1 \n",
      "2 3 \n",
      "4 5 6 \n",
      "7 8 9 10 \n",
      "11 12 13 14 15 \n"
     ]
    }
   ],
   "source": [
    "\"\"\"\n",
    "1\n",
    "2 3\n",
    "4 5 6\n",
    "7 8 9 10\n",
    "11 12 13 14 15\n",
    "Using nested while loop.\"\"\"\n",
    "\n",
    "n = int(input(\"Enter range: \"))\n",
    "i = 1\n",
    "count = 1\n",
    "while i <= n:\n",
    "    j = 1\n",
    "    while j <= i:\n",
    "        print(count, end=\" \")\n",
    "        count += 1\n",
    "        j += 1\n",
    "    print()\n",
    "    i += 1"
   ]
  },
  {
   "cell_type": "code",
   "execution_count": 10,
   "id": "e3b38175-ffb4-4f27-93ed-e47d4c86c820",
   "metadata": {},
   "outputs": [
    {
     "name": "stdin",
     "output_type": "stream",
     "text": [
      "Enter range:  5\n"
     ]
    },
    {
     "name": "stdout",
     "output_type": "stream",
     "text": [
      "* # * # * \n",
      "# * # * # \n",
      "* # * # * \n",
      "# * # * # \n",
      "* # * # * \n"
     ]
    }
   ],
   "source": [
    "\"\"\"\n",
    "* # * # * #\n",
    "# * # * # *\n",
    "* # * # * #\n",
    "# * # * # *\n",
    "* # * # * #\n",
    "# * # * # *  Using nested while loop.\"\"\"\n",
    "\n",
    "n = int(input(\"Enter range: \"))\n",
    "i = 0\n",
    "while i < n:\n",
    "    j = 0\n",
    "    while j < n:\n",
    "        if (i + j) % 2 == 0:\n",
    "            print(\"*\", end = \" \")\n",
    "        else:\n",
    "            print(\"#\", end = \" \")\n",
    "        j += 1\n",
    "    print()\n",
    "    i += 1"
   ]
  },
  {
   "cell_type": "code",
   "execution_count": 11,
   "id": "ac5c5a28-354f-4ad1-8806-f24b9b99bb86",
   "metadata": {},
   "outputs": [
    {
     "name": "stdin",
     "output_type": "stream",
     "text": [
      "Enter range:  5\n"
     ]
    },
    {
     "name": "stdout",
     "output_type": "stream",
     "text": [
      "        * \n",
      "      * * \n",
      "    * * * \n",
      "  * * * * \n",
      "* * * * * \n"
     ]
    }
   ],
   "source": [
    "\"\"\"\n",
    "        *\n",
    "      * *\n",
    "    * * *\n",
    "  * * * *\n",
    "* * * * *        \n",
    "Using nested while loop.\"\"\"\n",
    "\n",
    "n = int(input(\"Enter range: \"))\n",
    "i = 1\n",
    "while i <= n:\n",
    "    j = 1\n",
    "    while j <= n - i:\n",
    "        print(\" \", end = \" \")\n",
    "        j += 1\n",
    "\n",
    "    k = 1\n",
    "    while k <= i:\n",
    "        print(\"*\", end = \" \")\n",
    "        k += 1\n",
    "\n",
    "    print()\n",
    "    i += 1"
   ]
  },
  {
   "cell_type": "code",
   "execution_count": null,
   "id": "4e4a793a-5651-44eb-be79-a0a8847f5aa9",
   "metadata": {},
   "outputs": [],
   "source": []
  }
 ],
 "metadata": {
  "kernelspec": {
   "display_name": "Python 3 (ipykernel)",
   "language": "python",
   "name": "python3"
  },
  "language_info": {
   "codemirror_mode": {
    "name": "ipython",
    "version": 3
   },
   "file_extension": ".py",
   "mimetype": "text/x-python",
   "name": "python",
   "nbconvert_exporter": "python",
   "pygments_lexer": "ipython3",
   "version": "3.13.7"
  }
 },
 "nbformat": 4,
 "nbformat_minor": 5
}
