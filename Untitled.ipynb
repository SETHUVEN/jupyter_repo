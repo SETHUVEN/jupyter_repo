{
 "cells": [
  {
   "cell_type": "code",
   "execution_count": 1,
   "id": "9a02cba9-f3b8-4170-83ca-0f2e94adb3da",
   "metadata": {},
   "outputs": [
    {
     "name": "stdin",
     "output_type": "stream",
     "text": [
      "Enter n :  7\n"
     ]
    },
    {
     "name": "stdout",
     "output_type": "stream",
     "text": [
      " 1 x 2 x 3 x 4 x 5 x 6 x 7 = 5040\n"
     ]
    }
   ],
   "source": [
    "#FACTORIAL OF A NUMBER\n",
    "\n",
    "n = int(input(\"Enter n : \"))\n",
    "fact = 1\n",
    "for i in range(1, n+1):\n",
    "    fact *= i\n",
    "    if (i < n):\n",
    "        print(f\" {i} x\", end=\"\")\n",
    "    else:\n",
    "        print(f\" {i} \", end=\"\")\n",
    "print(\"=\",fact)"
   ]
  },
  {
   "cell_type": "code",
   "execution_count": null,
   "id": "859458b6-9d69-4650-b60b-9520d5a22bdc",
   "metadata": {},
   "outputs": [],
   "source": []
  }
 ],
 "metadata": {
  "kernelspec": {
   "display_name": "Python 3 (ipykernel)",
   "language": "python",
   "name": "python3"
  },
  "language_info": {
   "codemirror_mode": {
    "name": "ipython",
    "version": 3
   },
   "file_extension": ".py",
   "mimetype": "text/x-python",
   "name": "python",
   "nbconvert_exporter": "python",
   "pygments_lexer": "ipython3",
   "version": "3.13.7"
  }
 },
 "nbformat": 4,
 "nbformat_minor": 5
}
