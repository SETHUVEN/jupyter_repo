{
 "cells": [
  {
   "cell_type": "code",
   "execution_count": 20,
   "id": "d45457eb-6cf8-44db-a8d5-4efaef322efa",
   "metadata": {},
   "outputs": [
    {
     "name": "stdout",
     "output_type": "stream",
     "text": [
      "2\n",
      "24\n",
      "120\n"
     ]
    }
   ],
   "source": [
    "#Write a function multiply_all that takes any number of arguments and returns their product.\n",
    "\n",
    "def multiply_all(*nums):\n",
    "    prod = 1\n",
    "    for i in nums:\n",
    "        prod *= i\n",
    "    print(prod)\n",
    "\n",
    "m1 = multiply_all(1,2)\n",
    "m2 = multiply_all(2,3,4)\n",
    "m3 = multiply_all(1,4,5,6)\n",
    "\n",
    "m1\n",
    "m2\n",
    "m3"
   ]
  },
  {
   "cell_type": "code",
   "execution_count": 32,
   "id": "26cde0b4-3596-416c-ae90-29844509f050",
   "metadata": {},
   "outputs": [
    {
     "name": "stdout",
     "output_type": "stream",
     "text": [
      "Name: Sethu\n",
      "Age: 22\n",
      "Name: Guhan\n",
      "Age: 40\n",
      "Name: Akhis\n",
      "Age: 80\n"
     ]
    }
   ],
   "source": [
    "#Write a function describe_person that takes any number of keyword arguments and prints them in the format:- key: value.\n",
    "\n",
    "def describe_person(**per):\n",
    "        for key, value in per.items():\n",
    "            print(f\"{key}: {value}\")\n",
    "\n",
    "p1 = describe_person(**{\"Name\": \"Sethu\", \"Age\": \"22\"})\n",
    "p2 = describe_person(**{\"Name\": \"Guhan\", \"Age\": \"40\"})\n",
    "p3 = describe_person(**{\"Name\": \"Akhis\", \"Age\": \"80\"})\n",
    "\n",
    "p1 \n",
    "p2\n",
    "p3"
   ]
  },
  {
   "cell_type": "code",
   "execution_count": 42,
   "id": "0cfa25e5-7b1e-4abc-92bb-152f53c3c8fd",
   "metadata": {},
   "outputs": [
    {
     "name": "stdout",
     "output_type": "stream",
     "text": [
      "List :-\n",
      "[10, 20, 30]\n",
      "\n",
      "Dictionary :-\n",
      "{'name': 'Sethu', 'age': 22, 'city': 'Trichy'}\n",
      "\n",
      "List :-\n",
      "[10, 20, 30]\n",
      "\n",
      "Dictionary :-\n",
      "{'name': 'Guhan', 'age': 22, 'city': 'Chennai'}\n",
      "\n",
      "List :-\n",
      "[10, 20, 30]\n",
      "\n",
      "Dictionary :-\n",
      "{'name': 'Akhis', 'age': 22, 'city': 'Chennai'}\n",
      "\n"
     ]
    }
   ],
   "source": [
    "#Create a function log_data(*args, **kwargs) that prints all positional arguments as a list and keyword arguments as a dictionary.\n",
    "\n",
    "def log_data(*l1, **d1):\n",
    "    la = []\n",
    "    da = {}\n",
    "    print(\"List :-\")\n",
    "    for i in l1:\n",
    "        la.append(i)\n",
    "    print(la)\n",
    "    print()\n",
    "    print(\"Dictionary :-\")\n",
    "    for k, v in d1.items():\n",
    "        da[k] = v\n",
    "    print(da)\n",
    "    print()\n",
    "    \n",
    "log_data(10, 20, 30, name=\"Sethu\", age=22, city=\"Trichy\")\n",
    "log_data(10, 20, 30, name=\"Guhan\", age=22, city=\"Chennai\")\n",
    "log_data(10, 20, 30, name=\"Akhis\", age=22, city=\"Chennai\")"
   ]
  },
  {
   "cell_type": "code",
   "execution_count": 43,
   "id": "9f0a6cf3-4119-438b-9bf4-6c12c153eab7",
   "metadata": {},
   "outputs": [
    {
     "name": "stdout",
     "output_type": "stream",
     "text": [
      "Book Object Created\n"
     ]
    }
   ],
   "source": [
    "#Create a class Book with a default constructor that prints \"Book object created\" and create an object of the class.\n",
    "\n",
    "class Book:\n",
    "    def __init__(self, title):\n",
    "        self.title = \"Book Object Created\"  \n",
    "\n",
    "    def __str__(self):\n",
    "        return self.title\n",
    "        \n",
    "book = Book(\"Going to constructor of book class\") \n",
    "print(book)"
   ]
  },
  {
   "cell_type": "code",
   "execution_count": 46,
   "id": "31a9ad8f-74b5-4d66-8a72-78aa6c766f55",
   "metadata": {},
   "outputs": [
    {
     "name": "stdout",
     "output_type": "stream",
     "text": [
      "Student name is Sethu and grade is A\n",
      "Student name is Guhan and grade is A\n",
      "Student name is Akhis and grade is A\n"
     ]
    }
   ],
   "source": [
    "#Create a class Student with parameters: name and grade. Create a method to print the student's details.\n",
    "\n",
    "class Student:\n",
    "    def __init__(self, name, grade):\n",
    "        self.name = name\n",
    "        self.grade = grade\n",
    "    def details(self):\n",
    "        print(f\"Student name is {self.name} and grade is {self.grade}\")\n",
    "\n",
    "s1 = Student(\"Sethu\", \"A\")\n",
    "s2 = Student(\"Guhan\", \"A\")\n",
    "s3 = Student(\"Akhis\", \"A\")\n",
    "\n",
    "s1.details()\n",
    "s2.details()\n",
    "s3.details()"
   ]
  },
  {
   "cell_type": "code",
   "execution_count": 64,
   "id": "a2a6c716-e90c-49df-8368-bc9f8872b451",
   "metadata": {},
   "outputs": [
    {
     "name": "stdout",
     "output_type": "stream",
     "text": [
      "Car color is red\n",
      "Car color is blue\n"
     ]
    }
   ],
   "source": [
    "#Create a class Car with an attribute color. Use setattr() to change the color of the car after object creation.\n",
    "\n",
    "class Car:\n",
    "    def __init__(self, color):\n",
    "        self.color = color\n",
    "    def car_col(self):\n",
    "        print(f\"Car color is {self.color}\")\n",
    "\n",
    "c1 = Car(\"red\")\n",
    "c1.car_col()\n",
    "\n",
    "# setattr(c1, \"color\", \"blue\")\n",
    "# c1.car_col()"
   ]
  },
  {
   "cell_type": "code",
   "execution_count": 7,
   "id": "c4309b17-161c-4ff1-9827-b3271c9fc79b",
   "metadata": {},
   "outputs": [
    {
     "name": "stdout",
     "output_type": "stream",
     "text": [
      "True\n",
      "True\n"
     ]
    }
   ],
   "source": [
    "#Create a class Laptop with attribute brand. Write a function that checks if the object has an attribute brand.\n",
    "\n",
    "class Laptop:\n",
    "    def __init__(self, brand, graphics):\n",
    "        self.brand = brand\n",
    "        self.graphics = graphics\n",
    "l = Laptop(\"Lenovo\", \"RTX\")\n",
    "\n",
    "print(hasattr(l, \"brand\"))\n",
    "print(hasattr(l, \"graphics\"))"
   ]
  },
  {
   "cell_type": "code",
   "execution_count": 15,
   "id": "d7c3b3ea-a18d-413d-ab0a-e3838c1b3b36",
   "metadata": {},
   "outputs": [
    {
     "name": "stdout",
     "output_type": "stream",
     "text": [
      "True\n",
      "False\n"
     ]
    }
   ],
   "source": [
    "#Create a class Dog with attribute breed. Delete the attribute using delattr() and verify it's removed.\n",
    "\n",
    "class Dog:\n",
    "    def __init__(self, breed, age):\n",
    "        self.breed = breed\n",
    "        self.age = age\n",
    "d = Dog(\"Lab\", \"3\")\n",
    "\n",
    "delattr(d, \"breed\")\n",
    "#del d.breed\n",
    "\n",
    "print(hasattr(d, \"age\"))\n",
    "print(hasattr(d, \"breed\"))\n",
    "\n",
    "# d1 = Dog(\"pug\", \"2\")\n",
    "\n",
    "# print(hasattr(d, \"breed\"))"
   ]
  },
  {
   "cell_type": "code",
   "execution_count": 19,
   "id": "fd8c5a80-23a3-4b45-9ad4-db8196b07f28",
   "metadata": {},
   "outputs": [
    {
     "name": "stdout",
     "output_type": "stream",
     "text": [
      "Points x = 5, y = 10\n",
      "5 10\n"
     ]
    }
   ],
   "source": [
    "#Write a function create_point(x, y) that returns an object of class Point with coordinates x and y.\n",
    "\n",
    "class Point:\n",
    "    def __init__(self, x, y):\n",
    "        self.x = x\n",
    "        self.y = y\n",
    "    def __str__(self):\n",
    "        return f\"Points x = {self.x}, y = {self.y}\"\n",
    "\n",
    "def create_point(x,y):\n",
    "    return Point(x, y)\n",
    "\n",
    "p = create_point(5, 10)\n",
    "\n",
    "print(p)\n",
    "print(p.x, p.y)"
   ]
  },
  {
   "cell_type": "code",
   "execution_count": null,
   "id": "eb222e4c-cdb9-41ca-81b8-18ac06e080fd",
   "metadata": {},
   "outputs": [],
   "source": []
  }
 ],
 "metadata": {
  "kernelspec": {
   "display_name": "Python 3 (ipykernel)",
   "language": "python",
   "name": "python3"
  },
  "language_info": {
   "codemirror_mode": {
    "name": "ipython",
    "version": 3
   },
   "file_extension": ".py",
   "mimetype": "text/x-python",
   "name": "python",
   "nbconvert_exporter": "python",
   "pygments_lexer": "ipython3",
   "version": "3.13.7"
  }
 },
 "nbformat": 4,
 "nbformat_minor": 5
}
