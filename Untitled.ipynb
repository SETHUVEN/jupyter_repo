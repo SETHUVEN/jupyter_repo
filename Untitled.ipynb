{
 "cells": [
  {
   "cell_type": "code",
   "execution_count": null,
   "id": "7d33f3ae-7693-41bc-a40e-fc5de3113a5b",
   "metadata": {},
   "outputs": [],
   "source": [
    "#Print all even numbers between 1–20, skipping odd numbers using continue.\n",
    "\n",
    "n = int(input(\"Enter range: \"))\n",
    "i = 1\n",
    "\n",
    "while i <= n:\n",
    "    if i % 2 == 0:\n",
    "        print(i)\n",
    "    else:\n",
    "        "
   ]
  }
 ],
 "metadata": {
  "kernelspec": {
   "display_name": "Python 3 (ipykernel)",
   "language": "python",
   "name": "python3"
  },
  "language_info": {
   "codemirror_mode": {
    "name": "ipython",
    "version": 3
   },
   "file_extension": ".py",
   "mimetype": "text/x-python",
   "name": "python",
   "nbconvert_exporter": "python",
   "pygments_lexer": "ipython3",
   "version": "3.13.7"
  }
 },
 "nbformat": 4,
 "nbformat_minor": 5
}
