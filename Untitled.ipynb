{
 "cells": [
  {
   "cell_type": "code",
   "execution_count": 11,
   "id": "adc5d949-a645-4581-bf1c-593c6c35dbaa",
   "metadata": {},
   "outputs": [
    {
     "name": "stdout",
     "output_type": "stream",
     "text": [
      "**** SQAURE OF VALUES IN TUPLE **** \n",
      "\n",
      "(1.0, 1.4142135623730951, 1.7320508075688772, 2.0, 2.23606797749979) \n",
      "\n",
      "**** PRIME NUMBERS OF LIST AS SET **** \n",
      "\n",
      "{2, 3, 5} \n",
      "\n",
      "**** RESULT AS DICTIONARY **** \n",
      "\n",
      "{'squares': (1.0, 1.4142135623730951, 1.7320508075688772, 2.0, 2.23606797749979), 'prime': {2, 3, 5}} \n",
      "\n"
     ]
    }
   ],
   "source": [
    "\"\"\"From a list of integers, create a tuple of square roots (use math library), \n",
    "store only prime numbers in a set, and save results in a dictionary with keys: \"squares\", \"primes\".\"\"\"\n",
    "\n",
    "import math \n",
    "\n",
    "list_it = [1,2,3,4,5]\n",
    "sq_tup = tuple(math.sqrt(x) for x in list_it)\n",
    "prime_set = {x for x in list_it if all(x % i != 0 for i in range(2, int(math.sqrt(x)) + 1)) and x > 1}\n",
    "result_dict = {'squares':sq_tup, 'prime': prime_set}\n",
    "\n",
    "print(\"**** SQAURE OF VALUES IN TUPLE **** \\n\")\n",
    "print(f\"{sq_tup} \\n\")\n",
    "print(\"**** PRIME NUMBERS OF LIST AS SET **** \\n\")\n",
    "print(f\"{prime_set} \\n\")\n",
    "print(\"**** RESULT AS DICTIONARY **** \\n\")\n",
    "print(f\"{result_dict} \\n\")\n"
   ]
  },
  {
   "cell_type": "code",
   "execution_count": 14,
   "id": "25bcc5eb-5c85-4ab8-8ef8-ab04c664a0a8",
   "metadata": {},
   "outputs": [
    {
     "name": "stdout",
     "output_type": "stream",
     "text": [
      "**** RANDOM LOTTERY **** \n",
      "\n",
      "{('John', 'Doe'): [8, 46, 31, 20, 30, 38], ('Alice', 'Smith'): [14, 7, 46, 6, 8, 30], ('Bob', 'Brown'): [7, 8, 5, 27, 22, 40]}\n"
     ]
    }
   ],
   "source": [
    "\"\"\"Use random.sample() to generate a set of 6 unique numbers for a lottery ticket. Store multiple tickets in a list,\n",
    "and then put them in a dictionary with keys as player names (tuples of first, last name).\"\"\"\n",
    "\n",
    "import random\n",
    "\n",
    "player_list = [(\"John\", \"Doe\"), (\"Alice\", \"Smith\"), (\"Bob\", \"Brown\")]\n",
    "ticket = {p: random.sample(range(1, 50), 6) for p in player_list}\n",
    "print(\"**** RANDOM LOTTERY **** \\n\")\n",
    "print(ticket)"
   ]
  },
  {
   "cell_type": "code",
   "execution_count": 21,
   "id": "9f900ad2-c523-4b74-b1e7-dcd796b3dea2",
   "metadata": {},
   "outputs": [
    {
     "name": "stdout",
     "output_type": "stream",
     "text": [
      "**** MEAN AND MEDIAN OF STUDENT MARKS **** \n",
      "\n",
      "{'Abi': (52, 50), 'Bai': (46, 50), 'kai': (48.8, 50)} \n",
      "\n",
      "**** MARK AS TUPLE **** \n",
      "\n",
      "{(30, 50, 60, 70, 50), (34, 50, 50, 40, 70), (30, 40, 50, 50, 60)} \n",
      "\n",
      "**** AVERAGE OF STUDENTS IN SET **** \n",
      "\n",
      "{49, 52, 46} \n",
      "\n"
     ]
    }
   ],
   "source": [
    "\"\"\"Given a dictionary of students → list of marks, use statistics library to compute mean, \n",
    "median. Convert marks into tuples, and store unique average values in a set.\"\"\"\n",
    "\n",
    "import statistics\n",
    "\n",
    "student = {'Abi': [30,50,60,70,50], 'Bai': [30,40,50,50,60], 'kai':[34,50,50,40,70]}\n",
    "stats = {s: (statistics.mean(m), statistics.median(m)) for s, m in student.items()}\n",
    "mark = {tuple(m) for m in student.values()}\n",
    "avg = {round(statistics.mean(m))for m in student.values()}\n",
    "\n",
    "print(\"**** MEAN AND MEDIAN OF STUDENT MARKS **** \\n\")\n",
    "print(f\"{stats} \\n\")\n",
    "print(\"**** MARK AS TUPLE **** \\n\")\n",
    "print(f\"{mark} \\n\")\n",
    "print(\"**** AVERAGE OF STUDENTS IN SET **** \\n\")\n",
    "print(f\"{avg} \\n\")"
   ]
  },
  {
   "cell_type": "code",
   "execution_count": 22,
   "id": "d6f07e11-61e3-4519-bb62-4362969d829c",
   "metadata": {},
   "outputs": [
    {
     "name": "stdout",
     "output_type": "stream",
     "text": [
      "**** LIST OF EXT ****\n",
      "\n",
      "['txt', 'py', 'py', 'txt', 'md'] \n",
      "\n",
      "**** FREQUENCY OF EXT IN DICT ****\n",
      "\n",
      "{'txt': 2, 'md': 1, 'py': 2} \n",
      "\n",
      "**** SET OF UNIQUE EXT ****\n",
      "\n",
      "{'txt', 'md', 'py'} \n",
      "\n",
      "**** TUPLE OF EXT FREQUENCY ****\n",
      "\n",
      "(('txt', 2), ('md', 1), ('py', 2)) \n",
      "\n"
     ]
    }
   ],
   "source": [
    "\"\"\"Use os.listdir() to get all files in a folder. Extract extensions into a list, count frequencies in a dictionary, \n",
    "store unique extensions in a set, and return results as tuples of (extension, count).\"\"\"\n",
    "\n",
    "import os \n",
    "\n",
    "files = [\"demo.txt\", \"list.py\", \"class.py\", \"text1.txt\", \"e.md\"]\n",
    "ext_list = [f.split('.')[-1] for f in files if \".\" in f]\n",
    "ext_freq = {e: ext_list.count(e) for e in set(ext_list)}\n",
    "unique_ext = set(ext_list)\n",
    "result = tuple(ext_freq.items())\n",
    "\n",
    "print(\"**** LIST OF EXT ****\\n\")\n",
    "print(f\"{ext_list} \\n\")\n",
    "print(\"**** FREQUENCY OF EXT IN DICT ****\\n\")\n",
    "print(f\"{ext_freq} \\n\")\n",
    "print(\"**** SET OF UNIQUE EXT ****\\n\")\n",
    "print(f\"{unique_ext} \\n\")\n",
    "print(\"**** TUPLE OF EXT FREQUENCY ****\\n\")\n",
    "print(f\"{result } \\n\")"
   ]
  },
  {
   "cell_type": "code",
   "execution_count": null,
   "id": "465285e4-8341-4820-b64b-77874039a47c",
   "metadata": {},
   "outputs": [],
   "source": [
    "\"\"\"Use the datetime library to fetch today’s date, break into parts (day, month, year) stored in a list, convert them into a tuple, \n",
    "store key–value mapping in a dictionary, and finally make a set of unique values.\"\"\""
   ]
  }
 ],
 "metadata": {
  "kernelspec": {
   "display_name": "Python 3 (ipykernel)",
   "language": "python",
   "name": "python3"
  },
  "language_info": {
   "codemirror_mode": {
    "name": "ipython",
    "version": 3
   },
   "file_extension": ".py",
   "mimetype": "text/x-python",
   "name": "python",
   "nbconvert_exporter": "python",
   "pygments_lexer": "ipython3",
   "version": "3.13.7"
  }
 },
 "nbformat": 4,
 "nbformat_minor": 5
}
