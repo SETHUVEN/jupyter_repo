{
 "cells": [
  {
   "cell_type": "code",
   "execution_count": 14,
   "id": "cb7f4eb7-4e91-44ba-a37e-607d3c578628",
   "metadata": {},
   "outputs": [
    {
     "name": "stdin",
     "output_type": "stream",
     "text": [
      "Enter the change value:  5\n"
     ]
    },
    {
     "name": "stdout",
     "output_type": "stream",
     "text": [
      "\n",
      "Before changing nonlocal variable var_1 value : 10\n",
      "\n",
      "After changing nonlocal variable var_1 value : 5\n"
     ]
    }
   ],
   "source": [
    "#Create a function with a nested inner function that modifies a variable using the nonlocal keyword.\n",
    "\n",
    "def outer():\n",
    "    var_1 = 10\n",
    "    \n",
    "    def inner():\n",
    "        nonlocal var_1\n",
    "        n = int(input(\"Enter the change value: \"))\n",
    "        print()\n",
    "        print(f\"Before changing nonlocal variable var_1 value : {var_1}\\n\")\n",
    "        var_1 = n\n",
    "        return(f\"After changing nonlocal variable var_1 value : {var_1}\")\n",
    "    return inner()\n",
    "\n",
    "print(outer())"
   ]
  },
  {
   "cell_type": "code",
   "execution_count": null,
   "id": "a5c17793-005f-46c5-b4ef-6928645c6abb",
   "metadata": {},
   "outputs": [],
   "source": []
  }
 ],
 "metadata": {
  "kernelspec": {
   "display_name": "Python 3 (ipykernel)",
   "language": "python",
   "name": "python3"
  },
  "language_info": {
   "codemirror_mode": {
    "name": "ipython",
    "version": 3
   },
   "file_extension": ".py",
   "mimetype": "text/x-python",
   "name": "python",
   "nbconvert_exporter": "python",
   "pygments_lexer": "ipython3",
   "version": "3.13.8"
  }
 },
 "nbformat": 4,
 "nbformat_minor": 5
}
