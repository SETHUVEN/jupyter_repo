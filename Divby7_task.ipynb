{
 "cells": [
  {
   "cell_type": "code",
   "execution_count": 5,
   "id": "f57dff20-7dd7-4622-9b48-4c96bc1afc96",
   "metadata": {},
   "outputs": [
    {
     "name": "stdin",
     "output_type": "stream",
     "text": [
      "Enter range :  10\n"
     ]
    },
    {
     "name": "stdout",
     "output_type": "stream",
     "text": [
      "1 is not divisible by 7\n",
      "2 is not divisible by 7\n",
      "3 is not divisible by 7\n",
      "4 is not divisible by 7\n",
      "5 is not divisible by 7\n",
      "6 is not divisible by 7\n"
     ]
    }
   ],
   "source": [
    "#Loop through numbers 1–10. If a number is divisible by 7, stop. If none is divisible by 7, print a message using else.  \n",
    "n = int(input(\"Enter range : \"))\n",
    "\n",
    "for i in range(1, n+1):\n",
    "    if i % 7 == 0 :\n",
    "        break\n",
    "    else: \n",
    "        print(f\"{i} is not divisible by 7\")"
   ]
  },
  {
   "cell_type": "code",
   "execution_count": null,
   "id": "3ddd96ff-4242-42ad-b65a-74c97988ffe8",
   "metadata": {},
   "outputs": [],
   "source": []
  }
 ],
 "metadata": {
  "kernelspec": {
   "display_name": "Python 3 (ipykernel)",
   "language": "python",
   "name": "python3"
  },
  "language_info": {
   "codemirror_mode": {
    "name": "ipython",
    "version": 3
   },
   "file_extension": ".py",
   "mimetype": "text/x-python",
   "name": "python",
   "nbconvert_exporter": "python",
   "pygments_lexer": "ipython3",
   "version": "3.13.7"
  }
 },
 "nbformat": 4,
 "nbformat_minor": 5
}
