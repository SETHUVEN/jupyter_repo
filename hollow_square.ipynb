{
 "cells": [
  {
   "cell_type": "code",
   "execution_count": 14,
   "id": "13af7395-9568-43b1-8e15-e3066f774f1e",
   "metadata": {},
   "outputs": [
    {
     "name": "stdin",
     "output_type": "stream",
     "text": [
      "Enter range:  5\n"
     ]
    },
    {
     "name": "stdout",
     "output_type": "stream",
     "text": [
      "* * * * * \n",
      "*       * \n",
      "*       * \n",
      "*       * \n",
      "* * * * * \n"
     ]
    }
   ],
   "source": [
    "#Print a hollow square pattern of size n × n using a nested while loop.\n",
    "\n",
    "n = int(input(\"Enter range: \"))\n",
    "\n",
    "if n <= 0:\n",
    "    print(\"Enter range greater than 0\")\n",
    "else:\n",
    "    i = 0\n",
    "    while i < n :\n",
    "        j = 0\n",
    "        while j < n:\n",
    "            if i == 0 or i == n-1 or j == 0 or j == n-1:\n",
    "                print(\"*\", end=\" \")\n",
    "            else:\n",
    "                print(\" \", end=\" \")\n",
    "            j += 1\n",
    "        print()\n",
    "        i += 1"
   ]
  },
  {
   "cell_type": "code",
   "execution_count": null,
   "id": "5f08e7f4-0a86-4664-bebf-7aef3ef0d40a",
   "metadata": {},
   "outputs": [],
   "source": []
  }
 ],
 "metadata": {
  "kernelspec": {
   "display_name": "Python 3 (ipykernel)",
   "language": "python",
   "name": "python3"
  },
  "language_info": {
   "codemirror_mode": {
    "name": "ipython",
    "version": 3
   },
   "file_extension": ".py",
   "mimetype": "text/x-python",
   "name": "python",
   "nbconvert_exporter": "python",
   "pygments_lexer": "ipython3",
   "version": "3.13.7"
  }
 },
 "nbformat": 4,
 "nbformat_minor": 5
}
