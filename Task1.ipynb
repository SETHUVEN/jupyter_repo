{
 "cells": [
  {
   "cell_type": "code",
   "execution_count": 3,
   "id": "83c00cab-07d1-4982-a935-93a5f704eabe",
   "metadata": {},
   "outputs": [
    {
     "name": "stdout",
     "output_type": "stream",
     "text": [
      "6\n",
      "-2\n",
      "8\n",
      "0.5\n",
      "0\n",
      "16\n"
     ]
    }
   ],
   "source": [
    "#Arithmetic Operators\n",
    "A = 2\n",
    "B = 4\n",
    "print(A+B)\n",
    "print(A-B)\n",
    "print(A*B)\n",
    "print(A/B)\n",
    "print(A//B)\n",
    "print(A**B)"
   ]
  },
  {
   "cell_type": "code",
   "execution_count": 4,
   "id": "4a5b4dbd-7691-48ee-ba7c-f39cb6f05031",
   "metadata": {},
   "outputs": [
    {
     "name": "stdout",
     "output_type": "stream",
     "text": [
      "False\n",
      "True\n",
      "False\n",
      "False\n"
     ]
    }
   ],
   "source": [
    "#Logical Operators\n",
    "A = True\n",
    "B = False\n",
    "print(A and B)\n",
    "print(A or B)\n",
    "print(not(A or B))\n",
    "print(not(A) or B)"
   ]
  },
  {
   "cell_type": "code",
   "execution_count": 5,
   "id": "28361d08-18c4-4ef5-adba-c50f88dd5aef",
   "metadata": {},
   "outputs": [
    {
     "name": "stdout",
     "output_type": "stream",
     "text": [
      "False\n",
      "True\n",
      "False\n",
      "True\n"
     ]
    }
   ],
   "source": [
    "#Comparision Operators\n",
    "A = 3\n",
    "B = 4\n",
    "print(A == B)\n",
    "print(A <= B)\n",
    "print(A >= B)\n",
    "print(A != B)"
   ]
  },
  {
   "cell_type": "code",
   "execution_count": 6,
   "id": "c1a47e8a-883d-4bd2-a40b-aa4be954f252",
   "metadata": {},
   "outputs": [
    {
     "name": "stdout",
     "output_type": "stream",
     "text": [
      "False\n",
      "True\n"
     ]
    }
   ],
   "source": [
    "#Identity Operators\n",
    "A = 6\n",
    "B = 7\n",
    "print(A is B)\n",
    "print(A is not B)"
   ]
  },
  {
   "cell_type": "code",
   "execution_count": 7,
   "id": "906791e6-1569-4a14-bd8e-365940d4fa33",
   "metadata": {},
   "outputs": [
    {
     "name": "stdout",
     "output_type": "stream",
     "text": [
      "True\n",
      "False\n",
      "True\n"
     ]
    }
   ],
   "source": [
    "#Membership Opereators\n",
    "A = [1,2,3,5]\n",
    "print(2 in A)\n",
    "print(6 in A)\n",
    "print(6 not in A)"
   ]
  },
  {
   "cell_type": "code",
   "execution_count": 9,
   "id": "f36bad45-9e18-4c8e-bbdf-db9b68cac0bc",
   "metadata": {},
   "outputs": [
    {
     "name": "stdout",
     "output_type": "stream",
     "text": [
      "1\n",
      "7\n",
      "0\n",
      "4\n"
     ]
    }
   ],
   "source": [
    "#Bitwise Operator\n",
    "A = True\n",
    "B = 7\n",
    "print(A & B)\n",
    "print(A | B)\n",
    "print(A >> 2)\n",
    "print(A << 2)"
   ]
  },
  {
   "cell_type": "code",
   "execution_count": 11,
   "id": "353cd6eb-77d1-434f-b770-f3aea6f0c93b",
   "metadata": {},
   "outputs": [
    {
     "name": "stdout",
     "output_type": "stream",
     "text": [
      "0\n",
      "1\n"
     ]
    }
   ],
   "source": [
    "#Boolean Operators \n",
    "A = 1\n",
    "B = 0\n",
    "print(A and B)\n",
    "print(A or B)"
   ]
  },
  {
   "cell_type": "code",
   "execution_count": 14,
   "id": "fbe0394f-4b73-421e-87be-2f26d7258c7c",
   "metadata": {},
   "outputs": [
    {
     "name": "stdout",
     "output_type": "stream",
     "text": [
      "2\n",
      "1\n"
     ]
    }
   ],
   "source": [
    "#Assignment Operators\n",
    "A = 1\n",
    "B = 3\n",
    "A += 1\n",
    "B -= 2\n",
    "print(A)\n",
    "print(B)"
   ]
  },
  {
   "cell_type": "code",
   "execution_count": null,
   "id": "8730bea5-e3c6-4d5e-a3d7-85f537fcba7f",
   "metadata": {},
   "outputs": [],
   "source": []
  }
 ],
 "metadata": {
  "kernelspec": {
   "display_name": "Python 3 (ipykernel)",
   "language": "python",
   "name": "python3"
  },
  "language_info": {
   "codemirror_mode": {
    "name": "ipython",
    "version": 3
   },
   "file_extension": ".py",
   "mimetype": "text/x-python",
   "name": "python",
   "nbconvert_exporter": "python",
   "pygments_lexer": "ipython3",
   "version": "3.13.7"
  }
 },
 "nbformat": 4,
 "nbformat_minor": 5
}
