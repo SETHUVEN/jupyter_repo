{
 "cells": [
  {
   "cell_type": "code",
   "execution_count": 2,
   "id": "2dc50bf8-fea2-42a6-88be-94db81df9a33",
   "metadata": {},
   "outputs": [],
   "source": [
    "#Creating a file \n",
    "\n",
    "with open(\"sample.txt\", \"w\") as f:\n",
    "    f.writelines([\"Hello Guys\\n\", \"This is a text file\\n\", \"It is a odd line\\n\", \"It is a even line\\n\"])"
   ]
  },
  {
   "cell_type": "code",
   "execution_count": 4,
   "id": "5581ba49-be72-4a58-9cf8-20d9986f0c5e",
   "metadata": {},
   "outputs": [],
   "source": [
    "#Create a program that copies only odd-numbered lines from one file to another using loops and conditionals.\n",
    "\n",
    "new = open(\"new_file.txt\", \"w\")\n",
    "line_count = 1\n",
    "\n",
    "with open(\"sample.txt\", \"r\") as f:\n",
    "    for line in f:\n",
    "        if line_count % 2 == 0:\n",
    "            new.write(line)\n",
    "        line_count += 1\n",
    "new.close()"
   ]
  },
  {
   "cell_type": "code",
   "execution_count": null,
   "id": "e3d5d323-fb85-4a72-a961-7e39bcdf2803",
   "metadata": {},
   "outputs": [],
   "source": []
  }
 ],
 "metadata": {
  "kernelspec": {
   "display_name": "Python 3 (ipykernel)",
   "language": "python",
   "name": "python3"
  },
  "language_info": {
   "codemirror_mode": {
    "name": "ipython",
    "version": 3
   },
   "file_extension": ".py",
   "mimetype": "text/x-python",
   "name": "python",
   "nbconvert_exporter": "python",
   "pygments_lexer": "ipython3",
   "version": "3.13.8"
  }
 },
 "nbformat": 4,
 "nbformat_minor": 5
}
