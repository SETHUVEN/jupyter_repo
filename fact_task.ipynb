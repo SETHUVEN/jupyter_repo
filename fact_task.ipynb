{
 "cells": [
  {
   "cell_type": "code",
   "execution_count": 1,
   "id": "1185c8de-0839-4ae5-b5ae-1348f6ed909d",
   "metadata": {},
   "outputs": [
    {
     "name": "stdin",
     "output_type": "stream",
     "text": [
      "Enter n :  6\n"
     ]
    },
    {
     "name": "stdout",
     "output_type": "stream",
     "text": [
      " 1! x 2! x 3! x 4! x 5! x 6! = 720\n"
     ]
    }
   ],
   "source": [
    "#Factorial of a number\n",
    "\n",
    "n = int(input(\"Enter n : \"))\n",
    "fact = 1\n",
    "for i in range(1, n + 1):\n",
    "    fact *= i\n",
    "    if (i < n):\n",
    "        print(f\" {i}! x\", end=\"\")\n",
    "    else:\n",
    "        print(f\" {i}! \", end=\"\")\n",
    "print(\"=\",fact)"
   ]
  },
  {
   "cell_type": "code",
   "execution_count": null,
   "id": "a1e0e6ec-1581-4c36-9c29-a342af45509f",
   "metadata": {},
   "outputs": [],
   "source": []
  }
 ],
 "metadata": {
  "kernelspec": {
   "display_name": "Python 3 (ipykernel)",
   "language": "python",
   "name": "python3"
  },
  "language_info": {
   "codemirror_mode": {
    "name": "ipython",
    "version": 3
   },
   "file_extension": ".py",
   "mimetype": "text/x-python",
   "name": "python",
   "nbconvert_exporter": "python",
   "pygments_lexer": "ipython3",
   "version": "3.13.7"
  }
 },
 "nbformat": 4,
 "nbformat_minor": 5
}
