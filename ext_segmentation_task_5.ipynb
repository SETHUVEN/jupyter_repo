{
 "cells": [
  {
   "cell_type": "code",
   "execution_count": 1,
   "id": "edf907c9-3e61-4a64-a232-074a90445938",
   "metadata": {},
   "outputs": [
    {
     "name": "stdout",
     "output_type": "stream",
     "text": [
      "**** LIST OF EXT ****\n",
      "\n",
      "['txt', 'py', 'py', 'txt', 'csv'] \n",
      "\n",
      "**** FREQUENCY OF EXT IN DICT ****\n",
      "\n",
      "{'txt': 2, 'py': 2, 'csv': 1} \n",
      "\n",
      "**** SET OF UNIQUE EXT ****\n",
      "\n",
      "{'txt', 'py', 'csv'} \n",
      "\n",
      "**** TUPLE OF EXT FREQUENCY ****\n",
      "\n",
      "(('txt', 2), ('py', 2), ('csv', 1)) \n",
      "\n"
     ]
    }
   ],
   "source": [
    "\"\"\"Use os.listdir() to get all files in a folder. Extract extensions into a list, count frequencies in a dictionary, \n",
    "store unique extensions in a set, and return results as tuples of (extension, count).\"\"\"\n",
    "\n",
    "import os \n",
    "\n",
    "#files = os.listdir(\"folder_name\")\n",
    "files = [\"demo.txt\", \"list.py\", \"class.py\", \"text1.txt\", \"e.csv\"]\n",
    "ext_list = [f.split('.')[-1] for f in files if \".\" in f]\n",
    "ext_freq = {e: ext_list.count(e) for e in set(ext_list)}\n",
    "unique_ext = set(ext_list)\n",
    "result = tuple(ext_freq.items())\n",
    "\n",
    "print(\"**** LIST OF EXT ****\\n\")\n",
    "print(f\"{ext_list} \\n\")\n",
    "print(\"**** FREQUENCY OF EXT IN DICT ****\\n\")\n",
    "print(f\"{ext_freq} \\n\")\n",
    "print(\"**** SET OF UNIQUE EXT ****\\n\")\n",
    "print(f\"{unique_ext} \\n\")\n",
    "print(\"**** TUPLE OF EXT FREQUENCY ****\\n\")\n",
    "print(f\"{result } \\n\")"
   ]
  },
  {
   "cell_type": "code",
   "execution_count": null,
   "id": "a2d37f78-da3b-469e-b4b3-a361dfa5c9dd",
   "metadata": {},
   "outputs": [],
   "source": []
  }
 ],
 "metadata": {
  "kernelspec": {
   "display_name": "Python 3 (ipykernel)",
   "language": "python",
   "name": "python3"
  },
  "language_info": {
   "codemirror_mode": {
    "name": "ipython",
    "version": 3
   },
   "file_extension": ".py",
   "mimetype": "text/x-python",
   "name": "python",
   "nbconvert_exporter": "python",
   "pygments_lexer": "ipython3",
   "version": "3.13.7"
  }
 },
 "nbformat": 4,
 "nbformat_minor": 5
}
