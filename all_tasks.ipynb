{
 "cells": [
  {
   "cell_type": "code",
   "execution_count": 1,
   "id": "995420a2-4023-4442-b84c-f0d3f8500662",
   "metadata": {},
   "outputs": [
    {
     "name": "stdin",
     "output_type": "stream",
     "text": [
      "Enter range:  50\n"
     ]
    },
    {
     "name": "stdout",
     "output_type": "stream",
     "text": [
      "2\n",
      "4\n",
      "6\n",
      "8\n",
      "10\n",
      "12\n",
      "14\n",
      "16\n",
      "18\n",
      "20\n",
      "22\n",
      "24\n",
      "26\n",
      "28\n",
      "30\n",
      "32\n",
      "34\n",
      "36\n",
      "38\n",
      "40\n",
      "42\n",
      "44\n",
      "46\n",
      "48\n",
      "50\n"
     ]
    }
   ],
   "source": [
    "#even numbers for given range\n",
    "\n",
    "n = int(input(\"Enter range: \"))\n",
    "\n",
    "for i in range(1, n+1):\n",
    "    if i % 2 == 0:\n",
    "        print(i)"
   ]
  },
  {
   "cell_type": "code",
   "execution_count": 2,
   "id": "9453b5ec-19f4-42e6-9399-f0cd299bf1bb",
   "metadata": {},
   "outputs": [
    {
     "name": "stdin",
     "output_type": "stream",
     "text": [
      "Enter the table number:  6\n"
     ]
    },
    {
     "name": "stdout",
     "output_type": "stream",
     "text": [
      "6 x 1 = 6\n",
      "6 x 2 = 12\n",
      "6 x 3 = 18\n",
      "6 x 4 = 24\n",
      "6 x 5 = 30\n",
      "6 x 6 = 36\n",
      "6 x 7 = 42\n",
      "6 x 8 = 48\n",
      "6 x 9 = 54\n",
      "6 x 10 = 60\n"
     ]
    }
   ],
   "source": [
    "#multiplication tables\n",
    "\n",
    "m = int(input(\"Enter the table number: \"))\n",
    "c = 1\n",
    "\n",
    "while c <= 10:\n",
    "    print(f\"{m} x {c} = {m*c}\")\n",
    "    c += 1"
   ]
  },
  {
   "cell_type": "code",
   "execution_count": 4,
   "id": "7204d3fc-f8fd-420c-87d9-22eb5a0cf536",
   "metadata": {},
   "outputs": [
    {
     "name": "stdin",
     "output_type": "stream",
     "text": [
      "Enter n :  1234\n"
     ]
    },
    {
     "name": "stdout",
     "output_type": "stream",
     "text": [
      "10\n"
     ]
    }
   ],
   "source": [
    "#sum of digits\n",
    "\n",
    "n = int(input(\"Enter n : \"))\n",
    "count = 0\n",
    "while n>0:\n",
    "    temp = n % 10\n",
    "    count += temp\n",
    "    n = n // 10\n",
    "print(count)"
   ]
  },
  {
   "cell_type": "code",
   "execution_count": 5,
   "id": "6f2f425c-1929-4882-9a52-9a2f2834f635",
   "metadata": {},
   "outputs": [
    {
     "name": "stdin",
     "output_type": "stream",
     "text": [
      "Enter n :  5\n"
     ]
    },
    {
     "name": "stdout",
     "output_type": "stream",
     "text": [
      " 1! x 2! x 3! x 4! x 5! = 120\n"
     ]
    }
   ],
   "source": [
    "#Factorial of a number\n",
    "\n",
    "n = int(input(\"Enter n : \"))\n",
    "fact = 1\n",
    "for i in range(1, n + 1):\n",
    "    fact *= i\n",
    "    if (i < n):\n",
    "        print(f\" {i}! x\", end=\"\")\n",
    "    else:\n",
    "        print(f\" {i}! \", end=\"\")\n",
    "print(\"=\",fact)"
   ]
  },
  {
   "cell_type": "code",
   "execution_count": 8,
   "id": "c44692bb-2d8e-4ab4-95e2-ef4b32177ccd",
   "metadata": {},
   "outputs": [
    {
     "name": "stdin",
     "output_type": "stream",
     "text": [
      "Enter range:  20\n"
     ]
    },
    {
     "name": "stdout",
     "output_type": "stream",
     "text": [
      "0\n",
      "1\n",
      "1\n",
      "2\n",
      "3\n",
      "5\n",
      "8\n",
      "13\n",
      "21\n",
      "34\n",
      "55\n",
      "89\n",
      "144\n",
      "233\n",
      "377\n",
      "610\n",
      "987\n",
      "1597\n",
      "2584\n",
      "4181\n",
      "6765\n"
     ]
    }
   ],
   "source": [
    "#Fibonacci series\n",
    "n = int(input(\"Enter range: \"))\n",
    "a = 0\n",
    "b = 1\n",
    "print(a)\n",
    "print(b)\n",
    "for i in range(2, n+1):\n",
    "    b = a + b\n",
    "    print(b)\n",
    "    a = b - a"
   ]
  },
  {
   "cell_type": "code",
   "execution_count": 13,
   "id": "bfc97a0b-6bae-4269-a6f8-c0dd9bd22e19",
   "metadata": {},
   "outputs": [
    {
     "name": "stdin",
     "output_type": "stream",
     "text": [
      "Enter range:  100\n"
     ]
    },
    {
     "name": "stdout",
     "output_type": "stream",
     "text": [
      "1\n",
      "2\n",
      "3\n",
      "4\n",
      "5\n",
      "6\n",
      "7\n",
      "8\n",
      "9\n",
      "10\n",
      "11\n",
      "12\n"
     ]
    }
   ],
   "source": [
    "#break statement\n",
    "\n",
    "n = int(input(\"Enter range: \"))\n",
    "i = 1\n",
    "while True:\n",
    "    if i != 13:\n",
    "        print(i)\n",
    "        i = i + 1\n",
    "    else:\n",
    "        break"
   ]
  },
  {
   "cell_type": "code",
   "execution_count": 15,
   "id": "f5cc1093-76a9-464a-9ed6-9b92772192de",
   "metadata": {},
   "outputs": [
    {
     "name": "stdin",
     "output_type": "stream",
     "text": [
      "Enter range:  30\n"
     ]
    },
    {
     "name": "stdout",
     "output_type": "stream",
     "text": [
      "1\n",
      "2\n",
      "4\n",
      "5\n",
      "7\n",
      "8\n",
      "10\n",
      "11\n",
      "13\n",
      "14\n",
      "16\n",
      "17\n",
      "19\n",
      "20\n",
      "22\n",
      "23\n",
      "25\n",
      "26\n",
      "28\n",
      "29\n"
     ]
    }
   ],
   "source": [
    "#numbers not divisible by 3\n",
    "\n",
    "n = int(input(\"Enter range: \"))\n",
    "\n",
    "for i in range(1, n+1):\n",
    "    if i%3 == 0:\n",
    "        continue\n",
    "    else:\n",
    "        print(i)"
   ]
  },
  {
   "cell_type": "code",
   "execution_count": 17,
   "id": "aa466b64-38d4-4981-a433-8ae0ddfd4ecc",
   "metadata": {},
   "outputs": [
    {
     "name": "stdin",
     "output_type": "stream",
     "text": [
      "Enter number 1:  3\n",
      "Enter number 2:  4\n",
      "Enter number 3:  5\n"
     ]
    },
    {
     "name": "stdout",
     "output_type": "stream",
     "text": [
      "5 is greatest among three numbers\n"
     ]
    }
   ],
   "source": [
    "#Greatest among 3 numbers\n",
    "\n",
    "a = int(input(\"Enter number 1: \"))\n",
    "b = int(input(\"Enter number 2: \"))\n",
    "c = int(input(\"Enter number 3: \"))\n",
    "\n",
    "if a>b and a>c:\n",
    "    print(f\"{a} is greatest among three numbers\")\n",
    "elif b > c:\n",
    "    print(f\"{b} is greatest among three numbers\")\n",
    "else:\n",
    "    print(f\"{c} is greatest among three numbers\")"
   ]
  },
  {
   "cell_type": "code",
   "execution_count": 21,
   "id": "f0d6bf03-f9fb-4658-9424-d89c8b5cec95",
   "metadata": {},
   "outputs": [
    {
     "name": "stdin",
     "output_type": "stream",
     "text": [
      "Enter an integer:  0\n"
     ]
    },
    {
     "name": "stdout",
     "output_type": "stream",
     "text": [
      "0 is zero\n"
     ]
    }
   ],
   "source": [
    "#Number is positive, negative or zero\n",
    "\n",
    "n = int(input(\"Enter an integer: \"))\n",
    "\n",
    "if n > 0:\n",
    "    print(f\"{n} is positive number\")\n",
    "elif n < 0:\n",
    "    print(f\"{n} is negative number\")\n",
    "else:\n",
    "    print(f\"{n} is zero\")"
   ]
  },
  {
   "cell_type": "code",
   "execution_count": 25,
   "id": "3b03b118-44e4-4fd8-9f9d-f29779f42a5f",
   "metadata": {},
   "outputs": [
    {
     "name": "stdin",
     "output_type": "stream",
     "text": [
      "Enter a string:  hi\n"
     ]
    },
    {
     "name": "stdout",
     "output_type": "stream",
     "text": [
      "hi\n"
     ]
    },
    {
     "name": "stdin",
     "output_type": "stream",
     "text": [
      "Enter a string:  hello\n"
     ]
    },
    {
     "name": "stdout",
     "output_type": "stream",
     "text": [
      "hello\n"
     ]
    },
    {
     "name": "stdin",
     "output_type": "stream",
     "text": [
      "Enter a string:  exit\n"
     ]
    }
   ],
   "source": [
    "#Break loop for word exit\n",
    "\n",
    "while True:\n",
    "    val = input(\"Enter a string: \")\n",
    "    if val == \"exit\":\n",
    "        break\n",
    "    else:\n",
    "        print(val)"
   ]
  },
  {
   "cell_type": "code",
   "execution_count": 1,
   "id": "21b1c2ad-a86c-4949-a314-d6a586035212",
   "metadata": {},
   "outputs": [
    {
     "name": "stdin",
     "output_type": "stream",
     "text": [
      "Enter the year:  2000\n"
     ]
    },
    {
     "name": "stdout",
     "output_type": "stream",
     "text": [
      "2000 is a leap year\n"
     ]
    }
   ],
   "source": [
    "#Year is leap year or not\n",
    "\n",
    "year = int(input(\"Enter the year: \"))\n",
    "\n",
    "if (year % 4 == 0 and year % 100 != 0) or year % 400 == 0:\n",
    "    print(f\"{year} is a leap year\")\n",
    "else:\n",
    "    print(f\"{year} is not a leap year\")"
   ]
  },
  {
   "cell_type": "code",
   "execution_count": null,
   "id": "5efb8b52-422f-4b4c-ad28-4335fc933c75",
   "metadata": {},
   "outputs": [],
   "source": []
  }
 ],
 "metadata": {
  "kernelspec": {
   "display_name": "Python 3 (ipykernel)",
   "language": "python",
   "name": "python3"
  },
  "language_info": {
   "codemirror_mode": {
    "name": "ipython",
    "version": 3
   },
   "file_extension": ".py",
   "mimetype": "text/x-python",
   "name": "python",
   "nbconvert_exporter": "python",
   "pygments_lexer": "ipython3",
   "version": "3.13.7"
  }
 },
 "nbformat": 4,
 "nbformat_minor": 5
}
