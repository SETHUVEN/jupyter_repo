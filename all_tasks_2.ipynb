{
 "cells": [
  {
   "cell_type": "code",
   "execution_count": 10,
   "id": "867f48c0-f5ae-4f59-a864-5c79c855e252",
   "metadata": {},
   "outputs": [
    {
     "name": "stdin",
     "output_type": "stream",
     "text": [
      "Enter a number:  11\n"
     ]
    },
    {
     "name": "stdout",
     "output_type": "stream",
     "text": [
      "11 is a prime number\n"
     ]
    }
   ],
   "source": [
    "#Prime number check\n",
    "\n",
    "n = int(input(\"Enter a number: \"))\n",
    "\n",
    "if n == 0 or n == 1:\n",
    "    print(\"Enter a number greater than 0 and 1\")\n",
    "else:\n",
    "    prime = True\n",
    "    for i in range(2, int(n ** 0.5)+1):\n",
    "        if n % i == 0:\n",
    "            is_prime = False\n",
    "            break\n",
    "if prime:\n",
    "    print(f\"{n} is a prime number\")\n",
    "else:\n",
    "    print(f\"{n} is not a prime number\")"
   ]
  },
  {
   "cell_type": "code",
   "execution_count": 13,
   "id": "9a48a11e-896b-4d0a-801d-13ec00af2f50",
   "metadata": {},
   "outputs": [
    {
     "name": "stdin",
     "output_type": "stream",
     "text": [
      "Enter a arithmetic symbol to perform operation:  +\n",
      "Enter number 1:  2\n",
      "Enter number 2:  3\n"
     ]
    },
    {
     "name": "stdout",
     "output_type": "stream",
     "text": [
      "Addition of 2 and 3 = 5\n"
     ]
    }
   ],
   "source": [
    "#Switch case for add, sub, mul and div\n",
    "\n",
    "n = input(\"Enter a arithmetic symbol to perform operation: \")\n",
    "a = int(input(\"Enter number 1: \"))\n",
    "b = int(input(\"Enter number 2: \"))\n",
    "\n",
    "match n:\n",
    "    case '+':\n",
    "        add_val = a + b\n",
    "        print(f\"Addition of {a} and {b} = {add_val}\")\n",
    "    case '-':\n",
    "        sub_val = a - b\n",
    "        print(f\"subraction of {a} and {b} = {sub_val}\")\n",
    "    case '*':\n",
    "        mul_val = a * b\n",
    "        print(f\"Multiplication of {a} and {b} = {mul_val}\")\n",
    "    case '/':\n",
    "        div_val = a / b\n",
    "        print(f\"Division of {a} and {b} = {div_val}\")\n",
    "    case _:\n",
    "        print(\"Enter a valid input\")"
   ]
  },
  {
   "cell_type": "code",
   "execution_count": 20,
   "id": "63b68e2e-8695-4e3f-a0aa-6324d2f632ae",
   "metadata": {},
   "outputs": [
    {
     "name": "stdin",
     "output_type": "stream",
     "text": [
      "Enter a number:  -7\n"
     ]
    },
    {
     "name": "stdout",
     "output_type": "stream",
     "text": [
      "-7 is negative value so please enter a positive value\n",
      "This block is executed\n"
     ]
    }
   ],
   "source": [
    "#Define a function to check if a number is negative. If yes, raise ValueError. Handle it with try...except.\n",
    "\n",
    "class NegativeValueError(Exception):\n",
    "    pass\n",
    "\n",
    "try:\n",
    "    n = int(input(\"Enter a number: \"))\n",
    "    if n >= 0:\n",
    "        print(f\"{n} is a positive number\")\n",
    "    else:\n",
    "        raise NegativeValueError\n",
    "except NegativeValueError:\n",
    "    print(f\"{n} is negative value so please enter a positive value\")\n",
    "except Exception as e:\n",
    "    print(e)\n",
    "finally:\n",
    "    print(\"This block of code is executed\")"
   ]
  },
  {
   "cell_type": "code",
   "execution_count": 21,
   "id": "7b967ce6-0280-444e-a2ba-45b9a5fa02b5",
   "metadata": {},
   "outputs": [
    {
     "name": "stdin",
     "output_type": "stream",
     "text": [
      "Enter range :  10\n"
     ]
    },
    {
     "name": "stdout",
     "output_type": "stream",
     "text": [
      "1 is not divisible by 7\n",
      "2 is not divisible by 7\n",
      "3 is not divisible by 7\n",
      "4 is not divisible by 7\n",
      "5 is not divisible by 7\n",
      "6 is not divisible by 7\n"
     ]
    }
   ],
   "source": [
    "#Loop through numbers 1–10. If a number is divisible by 7, stop. If none is divisible by 7, print a message using else. \n",
    "\n",
    "n = int(input(\"Enter range : \"))\n",
    "\n",
    "for i in range(1, n+1):\n",
    "    if i % 7 == 0 :\n",
    "        break\n",
    "    else: \n",
    "        print(f\"{i} is not divisible by 7\")"
   ]
  },
  {
   "cell_type": "code",
   "execution_count": 5,
   "id": "46187b80-c8e1-43f3-a4ff-0876976511ae",
   "metadata": {},
   "outputs": [
    {
     "name": "stdin",
     "output_type": "stream",
     "text": [
      "Enter a :  2\n",
      "Enter b :  5\n"
     ]
    },
    {
     "name": "stdout",
     "output_type": "stream",
     "text": [
      "Division answer : 0.4\n"
     ]
    }
   ],
   "source": [
    "# Outer try: take input and convert to integer.\n",
    "# Inner try: divide two numbers.\n",
    "# Handle errors separately. \n",
    "\n",
    "try :\n",
    "    a = int(input(\"Enter a : \"))\n",
    "    b = int(input(\"Enter b : \"))\n",
    "    try :\n",
    "        div_val = a / b\n",
    "        print(f\"Division answer : {div_val}\")\n",
    "    except ZeroDivisionError:\n",
    "        print(\"We cannot divide by zero\")\n",
    "    except Exception as e:\n",
    "        print(e)\n",
    "except ValueError:\n",
    "    print(\"Enter an integer\")\n",
    "except Exception as e:\n",
    "    print(e)"
   ]
  },
  {
   "cell_type": "code",
   "execution_count": 12,
   "id": "9e744969-bc90-472a-83cc-67f64db3bc09",
   "metadata": {},
   "outputs": [
    {
     "name": "stdin",
     "output_type": "stream",
     "text": [
      "Enter a number:  -4\n"
     ]
    },
    {
     "name": "stdout",
     "output_type": "stream",
     "text": [
      "Negative values not allowed\n"
     ]
    }
   ],
   "source": [
    "#Input a number, calculate square root. Handle exceptions if input is negative or not numeric. \n",
    "\n",
    "class NegativeValue(Exception):\n",
    "    pass\n",
    "\n",
    "try:\n",
    "    a = int(input(\"Enter a number: \"))\n",
    "    if a < 0:\n",
    "        raise NegativeValue(\"Negative values not allowed\")\n",
    "    else:\n",
    "        print(f\"Square root of the value is: {a**2}\")\n",
    "except ValueError:\n",
    "    print(\"Enter an inetger\")\n",
    "except NegativeValue as e:\n",
    "    print(e)\n",
    "except Exception as e:\n",
    "    print(e)"
   ]
  },
  {
   "cell_type": "code",
   "execution_count": 13,
   "id": "e2cb5d14-8db7-4bca-baab-4faf179ed8f8",
   "metadata": {},
   "outputs": [
    {
     "name": "stdin",
     "output_type": "stream",
     "text": [
      "Enter your age:  6\n"
     ]
    },
    {
     "name": "stdout",
     "output_type": "stream",
     "text": [
      "Minor\n"
     ]
    }
   ],
   "source": [
    "#Ask for age and check with operators: < 18 → Minor, >= 18 → Adult, >= 60 → Senior.\n",
    "\n",
    "Age = int(input(\"Enter your age: \"))\n",
    "\n",
    "if Age < 18:\n",
    "    print(\"Minor\")\n",
    "elif Age >= 18 and Age <= 60:\n",
    "    print(\"Adult\")\n",
    "elif Age > 60:\n",
    "    print(\"Senior\")"
   ]
  },
  {
   "cell_type": "code",
   "execution_count": 20,
   "id": "8ec5612f-aaff-468f-b296-48c0a5b8152f",
   "metadata": {},
   "outputs": [
    {
     "name": "stdin",
     "output_type": "stream",
     "text": [
      "Enter the mark of the student:  9\n"
     ]
    },
    {
     "name": "stdout",
     "output_type": "stream",
     "text": [
      "Grade: F (Fail)\n"
     ]
    }
   ],
   "source": [
    "try:\n",
    "    mark = int(input(\"Enter the mark of the student: \"))\n",
    "\n",
    "    for i in range(0, 101):\n",
    "        if mark == i:\n",
    "            break\n",
    "    else:\n",
    "        raise ValueError(\"Enter value between 0 and 100\")\n",
    "    match mark:\n",
    "        case m if m >= 90 and m <= 100:\n",
    "            print(\"Grade: A+ (Excellent)\")\n",
    "        case m if m >= 75 and m < 90:\n",
    "            print(\"Grade: A (Very Good)\")\n",
    "        case m if m >= 60 and m < 75:\n",
    "            print(\"Grade: B (Good)\")\n",
    "        case m if m >= 50 and m < 60:\n",
    "            print(\"Grade: C (Average)\")\n",
    "        case m if m >= 35 and m < 50:\n",
    "            print(\"Grade: D (Pass)\")\n",
    "        case m if m >= 0 and m < 35:\n",
    "            print(\"Grade: F (Fail)\")\n",
    "        case _:\n",
    "            print(\"Invalid marks\")\n",
    "except ValueError as ve:\n",
    "    print(ve)\n",
    "except Exception as e:\n",
    "    print(e)"
   ]
  },
  {
   "cell_type": "code",
   "execution_count": 22,
   "id": "0df3470b-52c8-4eb3-8bfd-1bd0a772e675",
   "metadata": {},
   "outputs": [
    {
     "name": "stdin",
     "output_type": "stream",
     "text": [
      "Enter base value:  6\n",
      "Enter exponent value:  7\n"
     ]
    },
    {
     "name": "stdout",
     "output_type": "stream",
     "text": [
      "The power of the value is : 279936\n"
     ]
    }
   ],
   "source": [
    "#Take two inputs (base and exponent). Compute base ** exponent. Handle invalid inputs (non-numeric) with try...except.\n",
    "\n",
    "try:\n",
    "    b = int(input(\"Enter base value: \"))\n",
    "    e = int(input(\"Enter exponent value: \"))\n",
    "    print(f\"The power of the value is : {b**e}\")\n",
    "except ValueError:\n",
    "    print(\"Enter a valid input\")\n",
    "except Exception as e:\n",
    "    print(e)\n"
   ]
  },
  {
   "cell_type": "code",
   "execution_count": 26,
   "id": "3258f3fa-5fc2-4972-8701-86437934f611",
   "metadata": {},
   "outputs": [
    {
     "name": "stdin",
     "output_type": "stream",
     "text": [
      "Enter the range:  20\n"
     ]
    },
    {
     "name": "stdout",
     "output_type": "stream",
     "text": [
      "1 is not a even multiple of 9\n",
      "***[2 is even but not a multiple of 9]***\n",
      "3 is not a even multiple of 9\n",
      "***[4 is even but not a multiple of 9]***\n",
      "5 is not a even multiple of 9\n",
      "***[6 is even but not a multiple of 9]***\n",
      "7 is not a even multiple of 9\n",
      "***[8 is even but not a multiple of 9]***\n",
      "9 is not a even multiple of 9\n",
      "***[10 is even but not a multiple of 9]***\n",
      "11 is not a even multiple of 9\n",
      "***[12 is even but not a multiple of 9]***\n",
      "13 is not a even multiple of 9\n",
      "***[14 is even but not a multiple of 9]***\n",
      "15 is not a even multiple of 9\n",
      "***[16 is even but not a multiple of 9]***\n",
      "17 is not a even multiple of 9\n",
      "18 is a even multiple of 9 so we are broke the loop\n"
     ]
    }
   ],
   "source": [
    "#Loop numbers from 1 to 20. If an even number divisible by 9 is found, break. Otherwise, use else to print “No even multiple of 9 found”.\n",
    "\n",
    "n = int(input(\"Enter the range: \"))\n",
    "\n",
    "for i in range(1, n):\n",
    "    if i % 2 == 0:\n",
    "        if i % 9 == 0:\n",
    "            print(f\"{i} is a even multiple of 9 so we are broke the loop\")\n",
    "            break\n",
    "        else:\n",
    "            print(f\"***[{i} is even but not a multiple of 9]***\")\n",
    "    else:\n",
    "        print(f\"{i} is not a even multiple of 9\")"
   ]
  },
  {
   "cell_type": "code",
   "execution_count": 27,
   "id": "d47a2cd4-e850-4f44-bb2f-2c9f293b0397",
   "metadata": {},
   "outputs": [
    {
     "name": "stdin",
     "output_type": "stream",
     "text": [
      "Enter the temperature:  50\n"
     ]
    },
    {
     "name": "stdout",
     "output_type": "stream",
     "text": [
      "Very Hot\n"
     ]
    }
   ],
   "source": [
    "# Input a temperature and classify it using match...case\n",
    "\n",
    "temp = int(input(\"Enter the temperature: \"))\n",
    "\n",
    "match temp:\n",
    "    case t if t < 0:\n",
    "        print(\"Freezing\")\n",
    "    case t if 0 <= t <= 20:\n",
    "        print(\"Cold\")\n",
    "    case t if 21 <= t <= 30:\n",
    "        print(\"Warm\")\n",
    "    case t if 31 <= t <= 40:\n",
    "        print(\"Hot\")\n",
    "    case _:\n",
    "        print(\"Very Hot\")"
   ]
  },
  {
   "cell_type": "code",
   "execution_count": null,
   "id": "c2162d05-e11c-4246-a46a-6fb0fb6ec0c3",
   "metadata": {},
   "outputs": [],
   "source": []
  }
 ],
 "metadata": {
  "kernelspec": {
   "display_name": "Python 3 (ipykernel)",
   "language": "python",
   "name": "python3"
  },
  "language_info": {
   "codemirror_mode": {
    "name": "ipython",
    "version": 3
   },
   "file_extension": ".py",
   "mimetype": "text/x-python",
   "name": "python",
   "nbconvert_exporter": "python",
   "pygments_lexer": "ipython3",
   "version": "3.13.7"
  }
 },
 "nbformat": 4,
 "nbformat_minor": 5
}
