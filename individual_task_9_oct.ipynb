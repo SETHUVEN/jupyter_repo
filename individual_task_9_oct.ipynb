{
 "cells": [
  {
   "cell_type": "code",
   "execution_count": null,
   "id": "24c7a12b-844e-4ef6-ae7e-ff8cb05c68fc",
   "metadata": {},
   "outputs": [],
   "source": [
    "#Today Task\n",
    "\n",
    "class SuperSenior:\n",
    "    def __init__(self, skill1):\n",
    "        self.skill1 = skill1\n",
    "\n",
    "    def skill_pro(self):\n",
    "        self.skill1 = \"He is the senior most staff of our office and he teaches his junior\"\n",
    "        print(self.skill1)\n",
    "\n",
    "class Senior(SuperSenior):\n",
    "    def __init__(self, skill1, skill2):\n",
    "        super().__init__(skill1)\n",
    "        self.skill2 = skill2\n",
    "\n",
    "    def skill_intermediate(self):\n",
    "        self.skill2 = \"He is the senior staff of this and he was trained by his super senior\"\n",
    "        print(self.skill2)\n",
    "\n",
    "class Junior(Senior):\n",
    "    def __init__(self, skill1, skill2, skill3):\n",
    "        super().__init__(skill1, skill2)\n",
    "        self.skill3 = skill3\n",
    "\n",
    "    def skill_noob(self):\n",
    "        self.skill3 = \"He just joined this office and he will be trained by his senior\"\n",
    "        print(self.skill3)\n",
    "\n",
    "\n",
    "skill_who = Junior(\"SuperSenior skill\", \"Senior skill\", \"Junior skill\")\n",
    "\n",
    "print()\n",
    "skill_who.skill_noob()\n",
    "print()\n",
    "skill_who.skill_intermediate()\n",
    "print()\n",
    "skill_who.skill_pro()\n"
   ]
  }
 ],
 "metadata": {
  "kernelspec": {
   "display_name": "Python 3 (ipykernel)",
   "language": "python",
   "name": "python3"
  },
  "language_info": {
   "codemirror_mode": {
    "name": "ipython",
    "version": 3
   },
   "file_extension": ".py",
   "mimetype": "text/x-python",
   "name": "python",
   "nbconvert_exporter": "python",
   "pygments_lexer": "ipython3",
   "version": "3.13.8"
  }
 },
 "nbformat": 4,
 "nbformat_minor": 5
}
