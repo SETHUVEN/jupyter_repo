{
 "cells": [
  {
   "cell_type": "code",
   "execution_count": 11,
   "id": "adc5d949-a645-4581-bf1c-593c6c35dbaa",
   "metadata": {},
   "outputs": [
    {
     "name": "stdout",
     "output_type": "stream",
     "text": [
      "**** SQAURE OF VALUES IN TUPLE **** \n",
      "\n",
      "(1.0, 1.4142135623730951, 1.7320508075688772, 2.0, 2.23606797749979) \n",
      "\n",
      "**** PRIME NUMBERS OF LIST AS SET **** \n",
      "\n",
      "{2, 3, 5} \n",
      "\n",
      "**** RESULT AS DICTIONARY **** \n",
      "\n",
      "{'squares': (1.0, 1.4142135623730951, 1.7320508075688772, 2.0, 2.23606797749979), 'prime': {2, 3, 5}} \n",
      "\n"
     ]
    }
   ],
   "source": [
    "\"\"\"From a list of integers, create a tuple of square roots (use math library), \n",
    "store only prime numbers in a set, and save results in a dictionary with keys: \"squares\", \"primes\".\"\"\"\n",
    "\n",
    "import math \n",
    "\n",
    "list_it = [1,2,3,4,5]\n",
    "sq_tup = tuple(math.sqrt(x) for x in list_it)\n",
    "prime_set = {x for x in list_it if all(x % i != 0 for i in range(2, int(math.sqrt(x)) + 1)) and x > 1}\n",
    "result_dict = {'squares':sq_tup, 'prime': prime_set}\n",
    "\n",
    "print(\"**** SQAURE OF VALUES IN TUPLE **** \\n\")\n",
    "print(f\"{sq_tup} \\n\")\n",
    "print(\"**** PRIME NUMBERS OF LIST AS SET **** \\n\")\n",
    "print(f\"{prime_set} \\n\")\n",
    "print(\"**** RESULT AS DICTIONARY **** \\n\")\n",
    "print(f\"{result_dict} \\n\")\n"
   ]
  },
  {
   "cell_type": "code",
   "execution_count": 15,
   "id": "25bcc5eb-5c85-4ab8-8ef8-ab04c664a0a8",
   "metadata": {},
   "outputs": [
    {
     "name": "stdout",
     "output_type": "stream",
     "text": [
      "**** RANDOM LOTTERY **** \n",
      "\n",
      "{('John', 'Doe'): [37, 38, 18, 26, 29, 39], ('Alice', 'Smith'): [22, 46, 9, 30, 23, 12], ('Bob', 'Brown'): [17, 47, 4, 13, 40, 35]}\n",
      "\n"
     ]
    }
   ],
   "source": [
    "\"\"\"Use random.sample() to generate a set of 6 unique numbers for a lottery ticket. Store multiple tickets in a list,\n",
    "and then put them in a dictionary with keys as player names (tuples of first, last name).\"\"\"\n",
    "\n",
    "import random\n",
    "\n",
    "player_list = [(\"John\", \"Doe\"), (\"Alice\", \"Smith\"), (\"Bob\", \"Brown\")]\n",
    "l_ticket = {p: random.sample(range(1, 50), 6) for p in player_list}\n",
    "print(\"**** RANDOM LOTTERY **** \\n\")\n",
    "print(f\"{l_ticket}\\n\")"
   ]
  },
  {
   "cell_type": "code",
   "execution_count": 21,
   "id": "9f900ad2-c523-4b74-b1e7-dcd796b3dea2",
   "metadata": {},
   "outputs": [
    {
     "name": "stdout",
     "output_type": "stream",
     "text": [
      "**** MEAN AND MEDIAN OF STUDENT MARKS **** \n",
      "\n",
      "{'Abi': (52, 50), 'Bai': (46, 50), 'kai': (48.8, 50)} \n",
      "\n",
      "**** MARK AS TUPLE **** \n",
      "\n",
      "{(30, 50, 60, 70, 50), (34, 50, 50, 40, 70), (30, 40, 50, 50, 60)} \n",
      "\n",
      "**** AVERAGE OF STUDENTS IN SET **** \n",
      "\n",
      "{49, 52, 46} \n",
      "\n"
     ]
    }
   ],
   "source": [
    "\"\"\"Given a dictionary of students → list of marks, use statistics library to compute mean, \n",
    "median. Convert marks into tuples, and store unique average values in a set.\"\"\"\n",
    "\n",
    "import statistics\n",
    "\n",
    "student = {'Abi': [30,50,60,70,50], 'Bai': [30,40,50,50,60], 'kai':[34,50,50,40,70]}\n",
    "stats = {s: (statistics.mean(m), statistics.median(m)) for s, m in student.items()}\n",
    "mark = {tuple(m) for m in student.values()}\n",
    "avg = {round(statistics.mean(m))for m in student.values()}\n",
    "\n",
    "print(\"**** MEAN AND MEDIAN OF STUDENT MARKS **** \\n\")\n",
    "print(f\"{stats} \\n\")\n",
    "print(\"**** MARK AS TUPLE **** \\n\")\n",
    "print(f\"{mark} \\n\")\n",
    "print(\"**** AVERAGE OF STUDENTS IN SET **** \\n\")\n",
    "print(f\"{avg} \\n\")"
   ]
  },
  {
   "cell_type": "code",
   "execution_count": 22,
   "id": "d6f07e11-61e3-4519-bb62-4362969d829c",
   "metadata": {},
   "outputs": [
    {
     "name": "stdout",
     "output_type": "stream",
     "text": [
      "**** LIST OF EXT ****\n",
      "\n",
      "['txt', 'py', 'py', 'txt', 'md'] \n",
      "\n",
      "**** FREQUENCY OF EXT IN DICT ****\n",
      "\n",
      "{'txt': 2, 'md': 1, 'py': 2} \n",
      "\n",
      "**** SET OF UNIQUE EXT ****\n",
      "\n",
      "{'txt', 'md', 'py'} \n",
      "\n",
      "**** TUPLE OF EXT FREQUENCY ****\n",
      "\n",
      "(('txt', 2), ('md', 1), ('py', 2)) \n",
      "\n"
     ]
    }
   ],
   "source": [
    "\"\"\"Use os.listdir() to get all files in a folder. Extract extensions into a list, count frequencies in a dictionary, \n",
    "store unique extensions in a set, and return results as tuples of (extension, count).\"\"\"\n",
    "\n",
    "import os \n",
    "\n",
    "files = [\"demo.txt\", \"list.py\", \"class.py\", \"text1.txt\", \"e.md\"]\n",
    "ext_list = [f.split('.')[-1] for f in files if \".\" in f]\n",
    "ext_freq = {e: ext_list.count(e)  for e in set(ext_list)}\n",
    "unique_ext = set(ext_list)\n",
    "result = tuple(ext_freq.items())\n",
    "\n",
    "print(\"**** LIST OF EXT ****\\n\")\n",
    "print(f\"{ext_list} \\n\")\n",
    "print(\"**** FREQUENCY OF EXT IN DICT ****\\n\")\n",
    "print(f\"{ext_freq} \\n\")\n",
    "print(\"**** SET OF UNIQUE EXT ****\\n\")\n",
    "print(f\"{unique_ext} \\n\")\n",
    "print(\"**** TUPLE OF EXT FREQUENCY ****\\n\")\n",
    "print(f\"{result } \\n\")"
   ]
  },
  {
   "cell_type": "code",
   "execution_count": 5,
   "id": "465285e4-8341-4820-b64b-77874039a47c",
   "metadata": {},
   "outputs": [
    {
     "name": "stdout",
     "output_type": "stream",
     "text": [
      "**** DATE DIVIDED AS PARTS **** \n",
      "\n",
      "[25, 9, 2025] \n",
      "\n",
      "**** PARTS AS TUPLE **** \n",
      "\n",
      "(25, 9, 2025) \n",
      "\n",
      "**** KEY VALUE MAPPING OF DATE **** \n",
      "\n",
      "{'day': 25, 'month': 9, 'year': 2025} \n",
      "\n",
      "**** DATE PARTS AS SET **** \n",
      "\n",
      "{25, 2025, 9} \n",
      "\n"
     ]
    }
   ],
   "source": [
    "\"\"\"Use the datetime library to fetch today’s date, break into parts (day, month, year) stored in a list, convert them into a tuple, \n",
    "store key–value mapping in a dictionary, and finally make a set of unique values.\"\"\"\n",
    "\n",
    "import datetime\n",
    "\n",
    "today = datetime.date.today()\n",
    "date_div = [today.day, today.month, today.year]\n",
    "div_tup = tuple(date_div)\n",
    "date_dict = {'day': today.day, 'month':today.month, 'year':today.year}\n",
    "unique_val = set(date_div)\n",
    "\n",
    "print(\"**** DATE DIVIDED AS PARTS **** \\n\")\n",
    "print(f\"{date_div} \\n\")\n",
    "print(\"**** PARTS AS TUPLE **** \\n\")\n",
    "print(f\"{div_tup} \\n\")\n",
    "print(\"**** KEY VALUE MAPPING OF DATE **** \\n\")\n",
    "print(f\"{date_dict} \\n\")\n",
    "print(\"**** DATE PARTS AS SET **** \\n\")\n",
    "print(f\"{unique_val} \\n\")"
   ]
  },
  {
   "cell_type": "code",
   "execution_count": 9,
   "id": "a143a04f-393e-4bd7-9bd1-b474fdd96187",
   "metadata": {},
   "outputs": [
    {
     "name": "stdout",
     "output_type": "stream",
     "text": [
      "**** LEN OF COUNTRIES AS DICT ****\n",
      "\n",
      "{'INDIA': 5, 'USA': 3, 'GERMAN': 6, 'JAPAN': 5, 'CHINA': 5} \n",
      "\n",
      "**** UNIQUE LEN OF COUNTRIES AS TUPLE ****\n",
      "\n",
      "(3, 5, 6)\n",
      "\n"
     ]
    }
   ],
   "source": [
    "\"\"\"Create a list of country names, use the len() function to store country name lengths in a dictionary,\n",
    "extract unique lengths using a set, and print sorted lengths as a tuple.\"\"\"\n",
    "\n",
    "country = ['INDIA', 'USA', 'GERMAN', 'JAPAN', 'CHINA']\n",
    "len_dict = {con: len(con) for con in country}\n",
    "unique_len = sorted(set(len_dict.values()))\n",
    "len_tup = tuple(unique_len)\n",
    "print(\"**** LEN OF COUNTRIES AS DICT ****\\n\")\n",
    "print(f\"{len_dict} \\n\")\n",
    "print(\"**** UNIQUE LEN OF COUNTRIES AS TUPLE ****\\n\")\n",
    "print(f\"{len_tup}\\n\")"
   ]
  },
  {
   "cell_type": "code",
   "execution_count": 14,
   "id": "524ac29c-a6a7-49a2-821b-56894957dc47",
   "metadata": {},
   "outputs": [
    {
     "name": "stdout",
     "output_type": "stream",
     "text": [
      "**** AVERAGE OF STUDENT MARK ****\n",
      "\n",
      "42.5\n",
      "\n",
      "**** MARK AS DICT ****\n",
      "\n",
      "{'student-1': 10, 'student-2': 30, 'student-3': 40, 'student-4': 70, 'student-5': 80, 'student-6': 10, 'student-7': 30, 'student-8': 70}\n",
      "\n",
      "**** UNIQUE MARK AS TUPLE ****\n",
      "\n",
      "(10, 30, 40, 70, 80)\n",
      "\n"
     ]
    }
   ],
   "source": [
    "\"\"\"Take marks of students as a list, compute average using the statistics library,\n",
    "store student–marks in a dictionary, extract unique marks into a set, and print sorted unique marks as a tuple.\"\"\"\n",
    "\n",
    "import statistics\n",
    "\n",
    "m_list = [10,30,40,70,80,10,30,70]\n",
    "avg = statistics.mean(m_list)\n",
    "stu_dict = {f\"student-{i+1}\": m for i, m in enumerate(m_list)}\n",
    "uniq_m = tuple(sorted(set(m_list)))\n",
    "\n",
    "print(\"**** AVERAGE OF STUDENT MARK ****\\n\")\n",
    "print(f\"{avg}\\n\")\n",
    "print(\"**** MARK AS DICT ****\\n\")\n",
    "print(f\"{stu_dict}\\n\")\n",
    "print(\"**** UNIQUE MARK AS TUPLE ****\\n\")\n",
    "print(f\"{uniq_m}\\n\")\n"
   ]
  },
  {
   "cell_type": "code",
   "execution_count": 19,
   "id": "0b8e47a5-2fb9-43e0-9637-09c48dcec274",
   "metadata": {},
   "outputs": [
    {
     "name": "stdout",
     "output_type": "stream",
     "text": [
      "**** ODD AND EVEN VALUES IN DICT ****\n",
      "\n",
      "{2: 'even', 4: 'even', 6: 'even', 8: 'even', 3: 'odd', 5: 'odd', 7: 'odd', 11: 'odd'} \n",
      "\n",
      "**** UNIQUE ELEMENTS IN A SET ****\n",
      "\n",
      "{2, 3, 4, 5, 6, 7, 8, 11} \n",
      "\n",
      "**** SORTED VALUES AS TUPLE ****\n",
      "\n",
      "(2, 3, 4, 5, 6, 7, 8, 11) \n",
      "\n"
     ]
    }
   ],
   "source": [
    "\"\"\"Input a list of numbers, use a dictionary to classify each number as even or odd, store unique numbers in a set,\n",
    "and print them in a sorted tuple.\"\"\"\n",
    "\n",
    "l_num = [2,4,6,8,3,5,7,11]\n",
    "o_e_dict = {v: ('even' if v % 2 == 0 else 'odd') for v in l_num}\n",
    "uniq_set = set(l_num)\n",
    "sorted_tup = tuple(sorted(set(l_num)))\n",
    "\n",
    "print(\"**** ODD AND EVEN VALUES IN DICT ****\\n\")\n",
    "print(f\"{o_e_dict} \\n\")\n",
    "print(\"**** UNIQUE ELEMENTS IN A SET ****\\n\")\n",
    "print(f\"{uniq_set} \\n\")\n",
    "print(\"**** SORTED VALUES AS TUPLE ****\\n\")\n",
    "print(f\"{sorted_tup} \\n\")"
   ]
  },
  {
   "cell_type": "code",
   "execution_count": 27,
   "id": "002dc21f-8653-4701-99e8-bdf1e0d4f2fe",
   "metadata": {},
   "outputs": [
    {
     "name": "stdout",
     "output_type": "stream",
     "text": [
      "**** FACT OF INT AS DICT ****\n",
      "\n",
      "{'num-1': 1, 'num-2': 2, 'num-4': 24, 'num-5': 120, 'num-9': 362880, 'num-10': 3628800, 'num-11': 39916800}\n",
      "\n",
      "**** ALL FACT AS TUPLE ****\n",
      "\n",
      "(1, 2, 24, 120, 362880, 3628800, 39916800) \n",
      "\n"
     ]
    }
   ],
   "source": [
    "\"\"\"Take a list of integers, use the math library to find factorial of each number, store results in a dictionary,\n",
    "remove duplicate factorials with a set, and print all factorial values as a tuple.\"\"\"\n",
    "\n",
    "import math\n",
    "\n",
    "l_int = [1,2,2,4,5,5,9,10,11,11]\n",
    "fact_dict = {f\"num-{x}\": math.factorial(x) for x in l_int}\n",
    "uniq_set = set(fact_dict.values())\n",
    "tup_fact = tuple(fact_dict.values())\n",
    "\n",
    "print(\"**** FACT OF INT AS DICT ****\\n\")\n",
    "print(f\"{fact_dict}\\n\")\n",
    "print(\"**** ALL FACT AS TUPLE ****\\n\")\n",
    "print(f\"{tup_fact} \\n\")"
   ]
  },
  {
   "cell_type": "code",
   "execution_count": 31,
   "id": "259a43fb-0098-4dc9-90ce-e58578570f9e",
   "metadata": {},
   "outputs": [
    {
     "name": "stdout",
     "output_type": "stream",
     "text": [
      "**** SQUARE VALUE AS DICT ****\n",
      "\n",
      "{'number-20': 400, 'number-19': 361, 'number-11': 121, 'number-15': 225, 'number-6': 36, 'number-1': 1, 'number-8': 64, 'number-18': 324, 'number-14': 196, 'number-2': 4}\n",
      "\n",
      "**** UNIQUE SQUARE AS SET ****\n",
      "\n",
      "{64, 225, 1, 36, 324, 196, 4, 361, 400, 121}\n",
      "\n",
      "**** SORTED SQUARE VALUES AS TUPLE ****\n",
      "\n",
      "[1, 4, 36, 64, 121, 196, 225, 324, 361, 400]\n",
      "\n"
     ]
    }
   ],
   "source": [
    "\"\"\"Use the random library to generate 15 integers, store them in a list, create a dictionary with number as key and its square as value,\n",
    "extract unique squares using a set, and display them as a sorted tuple.\"\"\"\n",
    "\n",
    "import random\n",
    "\n",
    "list_rand = [random.randint(1, 20) for i in range(15)]\n",
    "dict_val = {f\"number-{i}\": i**2 for i in list_rand}\n",
    "uni_set = set(dict_val.values())\n",
    "sor_tup = sorted(tuple(uni_set))\n",
    "\n",
    "print(\"**** SQUARE VALUE AS DICT ****\\n\")\n",
    "print(f\"{dict_val}\\n\")\n",
    "print(\"**** UNIQUE SQUARE AS SET ****\\n\")\n",
    "print(f\"{uni_set}\\n\")\n",
    "print(\"**** SORTED SQUARE VALUES AS TUPLE ****\\n\")\n",
    "print(f\"{sor_tup}\\n\")"
   ]
  },
  {
   "cell_type": "code",
   "execution_count": 37,
   "id": "2e6e2d68-429a-4a9b-94a7-84d4fb4bf857",
   "metadata": {},
   "outputs": [
    {
     "name": "stdin",
     "output_type": "stream",
     "text": [
      "Enter country name:  INDIA\n",
      "Enter country name:  UAE\n",
      "Enter country name:  USA\n",
      "Enter country name:  UK\n",
      "Enter country name:  JAPAN\n"
     ]
    },
    {
     "name": "stdout",
     "output_type": "stream",
     "text": [
      "\n",
      "**** LENGTH OF COUNTRIES IN DICT ****\n",
      "\n",
      "{'INDIA': 5, 'UAE': 3, 'USA': 3, 'UK': 2, 'JAPAN': 5}\n",
      "\n",
      "**** UNIQUE LEN OF COUNTIES IN A SET ****\n",
      "\n",
      "{2, 3, 5}\n",
      "\n",
      "**** SORTED LENGTH AS TUPLE ****\n",
      "\n",
      "[2, 3, 5] \n",
      "\n"
     ]
    }
   ],
   "source": [
    "\"\"\"Take names of 5 cities from user input (list), use the len() function to store city–name length mapping in a dictionary,\n",
    "create a set of unique lengths, and finally sort them into a tuple.\"\"\"\n",
    "\n",
    "con_list = []\n",
    "\n",
    "for i in range(5):\n",
    "    con = input(\"Enter country name: \")\n",
    "    con_list.append(con)\n",
    "\n",
    "print()\n",
    "len_dict = {con: len(con) for con in con_list}\n",
    "uni_len = set(len_dict.values())\n",
    "tup_uni = sorted(tuple(uni_len))\n",
    "\n",
    "print(\"**** LENGTH OF COUNTRIES IN DICT ****\\n\")\n",
    "print(f\"{len_dict}\\n\")\n",
    "print(\"**** UNIQUE LEN OF COUNTIES IN A SET ****\\n\")\n",
    "print(f\"{uni_len}\\n\")\n",
    "print(\"**** SORTED LENGTH AS TUPLE ****\\n\")\n",
    "print(f\"{tup_uni} \\n\")"
   ]
  },
  {
   "cell_type": "code",
   "execution_count": null,
   "id": "f9d2d087-03dd-44f5-9906-3410cf323c75",
   "metadata": {},
   "outputs": [],
   "source": []
  }
 ],
 "metadata": {
  "kernelspec": {
   "display_name": "Python 3 (ipykernel)",
   "language": "python",
   "name": "python3"
  },
  "language_info": {
   "codemirror_mode": {
    "name": "ipython",
    "version": 3
   },
   "file_extension": ".py",
   "mimetype": "text/x-python",
   "name": "python",
   "nbconvert_exporter": "python",
   "pygments_lexer": "ipython3",
   "version": "3.13.7"
  }
 },
 "nbformat": 4,
 "nbformat_minor": 5
}
