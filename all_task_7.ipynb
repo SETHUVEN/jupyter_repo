{
 "cells": [
  {
   "cell_type": "code",
   "execution_count": 8,
   "id": "3fb5904f-3d9c-4629-84ce-c8a16f0dee6b",
   "metadata": {},
   "outputs": [
    {
     "name": "stdout",
     "output_type": "stream",
     "text": [
      "Breaking bad *** xyz *** 1000\n",
      "Breaking rad *** xyz *** 1000\n",
      "Breaking mad *** xyz *** 1000\n"
     ]
    }
   ],
   "source": [
    "#Create a Book class with attributes like title, author, and price. Create 3 different book objects and print their attributes.\n",
    "\n",
    "class Book:\n",
    "    def __init__(self, title, author, price):\n",
    "        self.title = title\n",
    "        self.author = author\n",
    "        self.price = price\n",
    "        \n",
    "    def display(self):\n",
    "       print(f\"{self.title} *** {self.author} *** {self.price}\")\n",
    "\n",
    "\n",
    "B1 = Book(\"Breaking bad\", \"xyz\", \"1000\")\n",
    "B2 = Book(\"Breaking rad\", \"xyz\", \"1000\")\n",
    "B3 = Book(\"Breaking mad\", \"xyz\", \"1000\")\n",
    "\n",
    "B1.display()\n",
    "B2.display()\n",
    "B3.display()"
   ]
  },
  {
   "cell_type": "code",
   "execution_count": 12,
   "id": "a6fafaea-262d-4c89-9725-58ae335d1feb",
   "metadata": {},
   "outputs": [
    {
     "name": "stdout",
     "output_type": "stream",
     "text": [
      "Sethu *** 22 *** A\n"
     ]
    }
   ],
   "source": [
    "#Create a Student class with a constructor that takes name, age, and grade. Display student information using a method.\n",
    "\n",
    "class Student:\n",
    "    def __init__(self,name, age, grade):\n",
    "        self.name = name\n",
    "        self.age = age\n",
    "        self.grade = grade\n",
    "        \n",
    "    def display(self):\n",
    "        print(f\"{self.name} *** {self.age} *** {self.grade}\")\n",
    "\n",
    "S = Student(\"Sethu\", \"22\", \"A\")\n",
    "S.display()"
   ]
  },
  {
   "cell_type": "code",
   "execution_count": 14,
   "id": "a4fa0360-6eba-466b-93f4-fcdb8909ae6a",
   "metadata": {},
   "outputs": [
    {
     "name": "stdout",
     "output_type": "stream",
     "text": [
      "Balance: 1000\n",
      "Balance:, 1500\n",
      "Balance:, 1200\n",
      "Insufficient balance\n",
      "Balance:, 1200\n"
     ]
    }
   ],
   "source": [
    "#Create a BankAccount class with a private balance attribute. Provide methods to deposit, withdraw, and check balance.\n",
    "\n",
    "class BankAccount:\n",
    "    \n",
    "    def __init__(self, balance=0):\n",
    "        self.__balance = balance  \n",
    "        \n",
    "    def deposit(self, amount):\n",
    "        self.__balance += amount\n",
    "\n",
    "    def withdraw(self, amount):\n",
    "        if amount <= self.__balance:\n",
    "            self.__balance -= amount\n",
    "        else:\n",
    "            print(\"Insufficient balance\")\n",
    "\n",
    "    def check_balance(self):\n",
    "        return self.__balance\n",
    "\n",
    "account = BankAccount(1000)\n",
    "print(f\"Balance: {account.check_balance()}\")\n",
    "\n",
    "account.deposit(500)\n",
    "print(f\"Balance:, {account.check_balance()}\")\n",
    "\n",
    "account.withdraw(300)\n",
    "print(f\"Balance:, {account.check_balance()}\")\n",
    "\n",
    "account.withdraw(1500)  \n",
    "print(f\"Balance:, {account.check_balance()}\")\n"
   ]
  },
  {
   "cell_type": "code",
   "execution_count": 15,
   "id": "61b79ab1-1832-4106-93f2-fe487d6af25b",
   "metadata": {},
   "outputs": [
    {
     "name": "stdin",
     "output_type": "stream",
     "text": [
      "Enter Numerator:  6\n",
      "Enter Denominator:  98\n"
     ]
    },
    {
     "name": "stdout",
     "output_type": "stream",
     "text": [
      "Value after division is 0.061224489795918366\n"
     ]
    }
   ],
   "source": [
    "#Write a function that divides two numbers and handles ZeroDivisionError if the denominator is zero.\n",
    "\n",
    "def div(N, D):\n",
    "    try:\n",
    "        N = int(N)\n",
    "        D = int(D)\n",
    "        result = N / D\n",
    "        \n",
    "    except ValueError:\n",
    "        print(\"Enter a valid input\")\n",
    "        \n",
    "    except ZeroDivisionError as e:\n",
    "        print(\"Denominator Cannot be zero\")\n",
    "        \n",
    "    else:\n",
    "        print(f\"Value after division is {result}\")\n",
    "        \n",
    "N = input(\"Enter Numerator: \")\n",
    "D = input(\"Enter Denominator: \")\n",
    "\n",
    "div(N, D)"
   ]
  },
  {
   "cell_type": "code",
   "execution_count": 27,
   "id": "15fbc98e-7c42-4e5b-8cf3-380ebfa14def",
   "metadata": {},
   "outputs": [
    {
     "name": "stdin",
     "output_type": "stream",
     "text": [
      "Enter your age:  -9\n"
     ]
    },
    {
     "name": "stdout",
     "output_type": "stream",
     "text": [
      "Error: Age cannot be negative!\n"
     ]
    }
   ],
   "source": [
    "#Define a custom exception NegativeValueError and raise it if the user enters a negative number for age.\n",
    "\n",
    "class NegativeValueError(Exception):\n",
    "    pass\n",
    "\n",
    "def get_age():\n",
    "    try:\n",
    "        age = int(input(\"Enter your age: \"))\n",
    "        if age < 0:\n",
    "            raise NegativeValueError(\"Age cannot be negative!\")\n",
    "        else:\n",
    "            print(f\"Your age is {age}\")\n",
    "            \n",
    "    except NegativeValueError as e:\n",
    "        print(\"Error:\", e)\n",
    "        \n",
    "    except ValueError:\n",
    "        print(\"Error: Please enter a valid number.\")      \n",
    "\n",
    "get_age()\n"
   ]
  },
  {
   "cell_type": "code",
   "execution_count": 29,
   "id": "de222f8a-c24c-4693-ad67-0b74806cc380",
   "metadata": {},
   "outputs": [
    {
     "name": "stdout",
     "output_type": "stream",
     "text": [
      "Area: 78.53981633974483\n",
      "Area: 16\n"
     ]
    }
   ],
   "source": [
    "#Write a function show_shape_area() that accepts any shape object (e.g., Circle, Square) and calls its area() method.\n",
    "\n",
    "import math\n",
    "\n",
    "class Circle:\n",
    "    \n",
    "    def __init__(self, radius):\n",
    "        self.radius = radius\n",
    "\n",
    "    def area(self):\n",
    "        return math.pi * self.radius * self.radius\n",
    "        \n",
    "class Square:\n",
    "    \n",
    "    def __init__(self, side):\n",
    "        self.side = side\n",
    "\n",
    "    def area(self):\n",
    "        return self.side * self.side\n",
    "\n",
    "def area_display(shape):\n",
    "    \n",
    "    print(\"Area:\", shape.area())\n",
    "\n",
    "c = Circle(5)\n",
    "s = Square(4)\n",
    "\n",
    "area_display(c) \n",
    "area_display(s)  \n",
    "\n",
    "    "
   ]
  },
  {
   "cell_type": "code",
   "execution_count": 30,
   "id": "e763037a-4659-45b2-9c72-27ef0ce85460",
   "metadata": {},
   "outputs": [
    {
     "name": "stdout",
     "output_type": "stream",
     "text": [
      "Name: qjshkwd, Age: 0\n",
      "Name: Sethu, Age: 22\n"
     ]
    }
   ],
   "source": [
    "#Create a Person class with both default and parameterized constructors. Demonstrate usage with two objects.\n",
    "\n",
    "class Person:\n",
    "    \n",
    "    def __init__(self, name=\"qjshkwd\", age=0):  \n",
    "        self.name = name\n",
    "        self.age = age\n",
    "\n",
    "    def display(self):\n",
    "        print(f\"Name: {self.name}, Age: {self.age}\")\n",
    "\n",
    "p1 = Person()\n",
    "p1.display()  \n",
    "\n",
    "p2 = Person(\"Sethu\", 22)\n",
    "p2.display()  \n"
   ]
  },
  {
   "cell_type": "code",
   "execution_count": 31,
   "id": "1a2a5329-8b3f-4091-9197-43d528a991ed",
   "metadata": {},
   "outputs": [
    {
     "name": "stdout",
     "output_type": "stream",
     "text": [
      "2020 BMW M5\n",
      "2019 Audi RS6\n",
      "2021 Benz GLA\n",
      "2022 MINI 3 Door\n",
      "2018 VW Taigun\n"
     ]
    }
   ],
   "source": [
    "#Create a Car class with attributes make, model, and year. Instantiate 5 different car objects and store them in a list.\n",
    "\n",
    "class Car:\n",
    "    def __init__(self, make, model, year):\n",
    "        self.make = make\n",
    "        self.model = model\n",
    "        self.year = year\n",
    "\n",
    "    def display(self):\n",
    "        print(f\"{self.year} {self.make} {self.model}\")\n",
    "\n",
    "car1 = Car(\"BMW\", \"M5\", 2020)\n",
    "car2 = Car(\"Audi\", \"RS6\", 2019)\n",
    "car3 = Car(\"Benz\", \"GLA\", 2021)\n",
    "car4 = Car(\"MINI\", \"3 Door\", 2022)\n",
    "car5 = Car(\"VW\", \"Taigun\", 2018)\n",
    "\n",
    "cars = [car1, car2, car3, car4, car5]\n",
    "\n",
    "for car in cars:\n",
    "    car.display()\n"
   ]
  },
  {
   "cell_type": "code",
   "execution_count": 32,
   "id": "0c051b3d-5de1-4e28-ad80-6f383a26a92c",
   "metadata": {},
   "outputs": [
    {
     "name": "stdin",
     "output_type": "stream",
     "text": [
      "Enter first number:  4\n",
      "Enter second number:  5\n",
      "Enter operation add or subtract:  add\n"
     ]
    },
    {
     "name": "stdout",
     "output_type": "stream",
     "text": [
      "Result: 9\n"
     ]
    }
   ],
   "source": [
    "#In a Calculator class, create methods add(), subtract(), and display_result() that calls other methods based on user choice.\n",
    "\n",
    "class Calculator:\n",
    "    \n",
    "    def __init__(self, a, b):\n",
    "        self.a = a\n",
    "        self.b = b\n",
    "\n",
    "    def add(self):\n",
    "        return self.a + self.b\n",
    "\n",
    "    def subtract(self):\n",
    "        return self.a - self.b\n",
    "\n",
    "    def display_result(self):\n",
    "        \n",
    "        temp = input(\"Enter operation add or subtract: \")\n",
    "        \n",
    "        if temp == \"add\":\n",
    "            print(\"Result:\", self.add())\n",
    "            \n",
    "        elif temp == \"subtract\":\n",
    "            print(\"Result:\", self.subtract())\n",
    "            \n",
    "        else:\n",
    "            print(\"Invalid choice\")\n",
    "            \n",
    "a = int(input(\"Enter first number: \"))\n",
    "b = int(input(\"Enter second number: \"))\n",
    "\n",
    "calc = Calculator(a, b)\n",
    "calc.display_result()\n"
   ]
  },
  {
   "cell_type": "code",
   "execution_count": 33,
   "id": "28ccb9a4-b823-4e55-9334-be39f9c8da02",
   "metadata": {},
   "outputs": [
    {
     "name": "stdout",
     "output_type": "stream",
     "text": [
      "Employee ID: 101\n",
      "name: Sethu\n",
      "dept: IT\n",
      "salary: 50000\n"
     ]
    }
   ],
   "source": [
    "\"\"\" Write a function employee_details(*args, **kwargs) that takes employee ID and any\n",
    "number of keyword attributes (like name, dept, salary) and displays all. \"\"\"\n",
    "\n",
    "def employee_details(*args, **kwargs):\n",
    "    \n",
    "    for emp_id in args:\n",
    "        print(\"Employee ID:\", emp_id)\n",
    "        \n",
    "    for key, value in kwargs.items():\n",
    "        print(f\"{key}: {value}\")\n",
    "\n",
    "\n",
    "employee_details(101, name=\"Sethu\", dept=\"IT\", salary=50000)\n"
   ]
  },
  {
   "cell_type": "code",
   "execution_count": 34,
   "id": "1ac1ea1d-e489-412f-a087-64bab63b9157",
   "metadata": {},
   "outputs": [
    {
     "name": "stdin",
     "output_type": "stream",
     "text": [
      "Enter temperature in Celsius:  898\n"
     ]
    },
    {
     "name": "stdout",
     "output_type": "stream",
     "text": [
      "Fahrenheit: 1648.4\n"
     ]
    }
   ],
   "source": [
    "#Create a TemperatureConverter class. Add method to_fahrenheit(celsius) that raises a ValueError if input is below -273.15°C (absolute zero).\n",
    "\n",
    "class TemperatureConverter:\n",
    "    \n",
    "    def to_fahrenheit(self, celsius):\n",
    "        \n",
    "        if celsius < -273.15:\n",
    "            \n",
    "            raise ValueError(\"Temperature cannot be below absolute zero (-273.15°C)\")\n",
    "            \n",
    "        return (celsius * 9/5) + 32\n",
    "        \n",
    "try:\n",
    "    temp = float(input(\"Enter temperature in Celsius: \"))\n",
    "    converter = TemperatureConverter()\n",
    "    \n",
    "    print(\"Fahrenheit:\", converter.to_fahrenheit(temp))\n",
    "    \n",
    "except ValueError as e:\n",
    "    \n",
    "    print(\"Error:\", e)"
   ]
  },
  {
   "cell_type": "code",
   "execution_count": null,
   "id": "ff6709b8-9689-43a1-be9a-fc1fc9a75f9e",
   "metadata": {},
   "outputs": [],
   "source": []
  }
 ],
 "metadata": {
  "kernelspec": {
   "display_name": "Python 3 (ipykernel)",
   "language": "python",
   "name": "python3"
  },
  "language_info": {
   "codemirror_mode": {
    "name": "ipython",
    "version": 3
   },
   "file_extension": ".py",
   "mimetype": "text/x-python",
   "name": "python",
   "nbconvert_exporter": "python",
   "pygments_lexer": "ipython3",
   "version": "3.13.7"
  }
 },
 "nbformat": 4,
 "nbformat_minor": 5
}
