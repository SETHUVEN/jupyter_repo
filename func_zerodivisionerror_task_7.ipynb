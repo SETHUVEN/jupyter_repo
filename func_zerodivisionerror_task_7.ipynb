{
 "cells": [
  {
   "cell_type": "code",
   "execution_count": 16,
   "id": "47ebf44d-2b91-48a3-9d9c-564c21fb9f0a",
   "metadata": {},
   "outputs": [
    {
     "name": "stdin",
     "output_type": "stream",
     "text": [
      "Enter Numerator:  4\n",
      "Enter Denominator:  5\n"
     ]
    },
    {
     "name": "stdout",
     "output_type": "stream",
     "text": [
      "Value after division is 0.8\n"
     ]
    }
   ],
   "source": [
    "#Write a function that divides two numbers and handles ZeroDivisionError if the denominator is zero.\n",
    "\n",
    "def div(N, D):\n",
    "    try:\n",
    "        N = int(N)\n",
    "        D = int(D)\n",
    "        result = N / D\n",
    "        \n",
    "    except ValueError:\n",
    "        print(\"Enter a valid input\")\n",
    "        \n",
    "    except ZeroDivisionError as e:\n",
    "        print(\"Denominator Cannot be zero\")\n",
    "        \n",
    "    else:\n",
    "        print(f\"Value after division is {result}\")\n",
    "        \n",
    "N = input(\"Enter Numerator: \")\n",
    "D = input(\"Enter Denominator: \")\n",
    "\n",
    "div(N, D)"
   ]
  },
  {
   "cell_type": "code",
   "execution_count": null,
   "id": "f6121b3c-924e-4176-b9eb-50a5e6258e09",
   "metadata": {},
   "outputs": [],
   "source": []
  }
 ],
 "metadata": {
  "kernelspec": {
   "display_name": "Python 3 (ipykernel)",
   "language": "python",
   "name": "python3"
  },
  "language_info": {
   "codemirror_mode": {
    "name": "ipython",
    "version": 3
   },
   "file_extension": ".py",
   "mimetype": "text/x-python",
   "name": "python",
   "nbconvert_exporter": "python",
   "pygments_lexer": "ipython3",
   "version": "3.13.7"
  }
 },
 "nbformat": 4,
 "nbformat_minor": 5
}
