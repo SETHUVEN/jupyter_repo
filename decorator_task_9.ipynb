{
 "cells": [
  {
   "cell_type": "code",
   "execution_count": 6,
   "id": "7a4e9b19-fdb0-47d8-9b1f-41fa7ae9ee08",
   "metadata": {},
   "outputs": [
    {
     "name": "stdout",
     "output_type": "stream",
     "text": [
      "greet has been called 1 times\n",
      "Hello, Alice!\n",
      "greet has been called 2 times\n",
      "Hello, Bob!\n",
      "greet has been called 3 times\n",
      "Hello, Charlie!\n"
     ]
    }
   ],
   "source": [
    "#Write a decorator that uses a nested function to count and print how many times a function was called.\n",
    "\n",
    "def count(func):\n",
    "    count1 = 0\n",
    "    def wrapper(*args, **kwargs):\n",
    "        nonlocal count1\n",
    "        count1 += 1\n",
    "        print(f\"{func.__name__} has been called {count1} times\")\n",
    "        return func(*args, **kwargs)\n",
    "    return wrapper\n",
    "\n",
    "@count\n",
    "def greet(name):\n",
    "    print(f\"Hello, {name}!\")\n",
    "\n",
    "greet(\"Alice\")\n",
    "greet(\"Bob\")\n",
    "greet(\"Charlie\")"
   ]
  },
  {
   "cell_type": "code",
   "execution_count": null,
   "id": "b8e2e165-0958-4b9b-850c-215d42c84bac",
   "metadata": {},
   "outputs": [],
   "source": []
  }
 ],
 "metadata": {
  "kernelspec": {
   "display_name": "Python 3 (ipykernel)",
   "language": "python",
   "name": "python3"
  },
  "language_info": {
   "codemirror_mode": {
    "name": "ipython",
    "version": 3
   },
   "file_extension": ".py",
   "mimetype": "text/x-python",
   "name": "python",
   "nbconvert_exporter": "python",
   "pygments_lexer": "ipython3",
   "version": "3.13.7"
  }
 },
 "nbformat": 4,
 "nbformat_minor": 5
}
