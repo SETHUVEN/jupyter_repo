{
 "cells": [
  {
   "cell_type": "code",
   "execution_count": 15,
   "id": "7575f80f-0d04-4b33-bdbd-43b43f494ab2",
   "metadata": {},
   "outputs": [
    {
     "name": "stdout",
     "output_type": "stream",
     "text": [
      "Book Title: GOT Author name: Winterfield \n",
      "\n",
      "Magizine name: Iron fist and Publisher: Mike \n",
      "\n",
      "Movie title: Avengers and director: Tony Stark \n",
      "\n"
     ]
    }
   ],
   "source": [
    "#Library class with get_info method\n",
    "\n",
    "class LibraryItem:\n",
    "    def get_info(self):\n",
    "        return \"Library Items\"\n",
    "\n",
    "class Book(LibraryItem):\n",
    "    def __init__(self, title, author):\n",
    "        self.title = title\n",
    "        self.author = author\n",
    "    def get_info(self):\n",
    "        return f\"Book Title: {self.title} Author name: {self.author}\"\n",
    "\n",
    "class Magazine(LibraryItem):\n",
    "    def __init__(self, name, publisher):\n",
    "        self.name = name\n",
    "        self.publisher = publisher\n",
    "    def get_info(self):\n",
    "        return f\"Magizine name: {self.name} and Publisher: {self.publisher}\"\n",
    "        \n",
    "class DVD(LibraryItem):\n",
    "    def __init__(self, title, director):\n",
    "        self.title = title\n",
    "        self.director = director\n",
    "    def get_info(self):\n",
    "        return f\"Movie title: {self.title} and director: {self.director}\"\n",
    "\n",
    "Items = [Book(\"GOT\", \"Winterfield\"), Magazine(\"Iron fist\", \"Mike\"), DVD(\"Avengers\", \"Tony Stark\")]\n",
    "\n",
    "for item in Items:\n",
    "    print(f\"{item.get_info()} \\n\")\n"
   ]
  },
  {
   "cell_type": "code",
   "execution_count": null,
   "id": "9241f096-63c3-4a5f-9dbf-4d4dad7cb16e",
   "metadata": {},
   "outputs": [],
   "source": []
  }
 ],
 "metadata": {
  "kernelspec": {
   "display_name": "Python 3 (ipykernel)",
   "language": "python",
   "name": "python3"
  },
  "language_info": {
   "codemirror_mode": {
    "name": "ipython",
    "version": 3
   },
   "file_extension": ".py",
   "mimetype": "text/x-python",
   "name": "python",
   "nbconvert_exporter": "python",
   "pygments_lexer": "ipython3",
   "version": "3.13.7"
  }
 },
 "nbformat": 4,
 "nbformat_minor": 5
}
