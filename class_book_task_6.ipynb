{
 "cells": [
  {
   "cell_type": "code",
   "execution_count": 17,
   "id": "5f7a1505-eddf-4cf9-829b-c0964efc4400",
   "metadata": {},
   "outputs": [
    {
     "name": "stdout",
     "output_type": "stream",
     "text": [
      "Book Object Created\n"
     ]
    }
   ],
   "source": [
    "#Create a class Book with a default constructor that prints \"Book object created\" and create an object of the class.\n",
    "\n",
    "class Book:\n",
    "    def __init__(self, title):\n",
    "        self.title = \"Book Object Created\"  \n",
    "\n",
    "    def __str__(self):\n",
    "        return self.title\n",
    "        \n",
    "book = Book(\"Going to constructor of book class\") \n",
    "print(book)\n",
    "\n",
    "# Alternative try\n",
    "\n",
    "# class Book:\n",
    "#     def __init__(self):\n",
    "#         pass  \n",
    "\n",
    "#     def __str__(self):\n",
    "#         return \"Book Object Creates\"\n",
    "        \n",
    "# book = Book() \n",
    "# print(book)"
   ]
  },
  {
   "cell_type": "code",
   "execution_count": null,
   "id": "dd8481ba-40bf-4b6d-93ad-d512d990175d",
   "metadata": {},
   "outputs": [],
   "source": []
  }
 ],
 "metadata": {
  "kernelspec": {
   "display_name": "Python 3 (ipykernel)",
   "language": "python",
   "name": "python3"
  },
  "language_info": {
   "codemirror_mode": {
    "name": "ipython",
    "version": 3
   },
   "file_extension": ".py",
   "mimetype": "text/x-python",
   "name": "python",
   "nbconvert_exporter": "python",
   "pygments_lexer": "ipython3",
   "version": "3.13.7"
  }
 },
 "nbformat": 4,
 "nbformat_minor": 5
}
